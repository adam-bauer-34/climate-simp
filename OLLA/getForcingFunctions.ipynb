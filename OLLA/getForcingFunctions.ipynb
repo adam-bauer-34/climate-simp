{
 "cells": [
  {
   "cell_type": "markdown",
   "id": "worth-husband",
   "metadata": {},
   "source": [
    "# Forcing Generator Functions\n",
    "\n",
    "This file contains programs that make the .nc forcing file that will be fed to OLLA. \n",
    "\n",
    "The first function makes the .nc, but requires the latter function to make the forcing on a minute-by-minute scale.\n",
    "\n",
    "This code largely borrows from make_forcing.py, originally written by Lucas Zeppetello."
   ]
  },
  {
   "cell_type": "code",
   "execution_count": 1,
   "id": "minute-pricing",
   "metadata": {},
   "outputs": [],
   "source": [
    "import numpy as np \n",
    "import random\n",
    "\n",
    "from netCDF4 import Dataset "
   ]
  },
  {
   "cell_type": "code",
   "execution_count": 3,
   "id": "cellular-house",
   "metadata": {},
   "outputs": [],
   "source": [
    "def getForcingNetCDF(tot_years, stats_array):\n",
    "    \n",
    "    # This creates a netCDF file with two dimensions: the time (or\n",
    "    # minutes) and the year (taken from tot_years). This will force\n",
    "    # OLLA.\n",
    "    \n",
    "    mins_in_sum = 92*60*24 # minutes in a summer\n",
    "    \n",
    "    # Initialize arrays for forcing variables\n",
    "    \n",
    "    F_solar = np.zeros(shape=(mins_in_sum, tot_years))\n",
    "    precip = np.zeros(shape=(mins_in_sum, tot_years))\n",
    "    t_upper = np.zeros(shape=(mins_in_sum, tot_years))\n",
    "    q_upper = np.zeros(shape=(mins_in_sum, tot_years))\n",
    "    cloud_frac = np.zeros(shape=(mins_in_sum, tot_years))\n",
    "    \n",
    "    # Loop through initialized arrays and make \"by the minute\" forcing using \n",
    "    # getRedNoise(), below. So to be clear: this loop makes a year's worth of forcing,\n",
    "    # while getRedNoise() makes forcing by the minute.\n",
    "    \n",
    "    for i in range(0, tot_years-1):\n",
    "        minute_F_solar, minute_precip, minute_t_upper, minute_q_upper, minute_cloud_frac = getRedNoise(stats_array)\n",
    "        F_solar[:,i] = minute_F_solar\n",
    "        precip[:,i] = minute_precip\n",
    "        t_upper[:,i] = minute_t_upper\n",
    "        q_upper[:,i] = minute_q_upper\n",
    "        cloud_frac[:,i] = minute_cloud_frac\n",
    "        \n",
    "    # Now to write the above forcing information to a .nc\n",
    "        \n",
    "    netcdf_name = \"OLLA_forcing.nc\"\n",
    "    \n",
    "    tmp_dataset = Dataset(netcdf_name, 'w', format='NETCDF3_64BIT')\n",
    "    \n",
    "    # Creating a \"dimension\" is equivalent to inializing a numpy array of shape\n",
    "    # 'time'. You just have to add the dimensions to the .nc sequentially, as done below.\n",
    "    \n",
    "    tmp_dataset.createDimension('time', mins_in_sum)\n",
    "    minutes = tmp_dataset.createVariable('time', 'i4', ('time', ))\n",
    "    \n",
    "    tmp_dataset.createDimension('summer_number', tot_years)\n",
    "    summer_number = tmp_dataset.createVariable('summer_number', 'i4', ('summer_number', ))\n",
    "    \n",
    "    # Initialize vairables in the .nc that relate to forcing.\n",
    "    \n",
    "    F_solar_var = tmp_dataset.createVariable('F_solar', 'f4', ('time', 'summer_number', ))\n",
    "    precip_var = tmp_dataset.createVariable('precip', 'f4', ('time', 'summer_number', ))\n",
    "    t_upper_var = tmp_dataset.createVariable('t_upper', 'f4', ('time', 'summer_number', ))\n",
    "    q_upper_var = tmp_dataset.createVariable('q_upper', 'f4', ('time', 'summer_number', ))\n",
    "    cloud_frac_var = tmp_dataset.createVariable('cloud_frac', 'f4', ('time', 'summer_number', ))\n",
    "    \n",
    "    # Fill in values of the forcing variables in the .nc\n",
    "    \n",
    "    F_solar_var[:,:] = F_solar \n",
    "    precip_var[:,:] = precip\n",
    "    t_upper_var[:,:] = t_upper\n",
    "    q_upper_var[:,:] = q_upper\n",
    "    cloud_frac_var[:,:] = cloud_frac\n",
    "    \n",
    "    # Voila!\n",
    "    \n",
    "    tmp_dataset.close()"
   ]
  },
  {
   "cell_type": "code",
   "execution_count": null,
   "id": "boolean-compression",
   "metadata": {},
   "outputs": [],
   "source": [
    "def getRedNoise(stats_array):\n",
    "    \n",
    "    # params are defined from stats_array\n",
    "    \n",
    "    return F_solar, precip, t_up, q_up, cloud_frac"
   ]
  }
 ],
 "metadata": {
  "kernelspec": {
   "display_name": "Python 3",
   "language": "python",
   "name": "python3"
  },
  "language_info": {
   "codemirror_mode": {
    "name": "ipython",
    "version": 3
   },
   "file_extension": ".py",
   "mimetype": "text/x-python",
   "name": "python",
   "nbconvert_exporter": "python",
   "pygments_lexer": "ipython3",
   "version": "3.8.5"
  }
 },
 "nbformat": 4,
 "nbformat_minor": 5
}

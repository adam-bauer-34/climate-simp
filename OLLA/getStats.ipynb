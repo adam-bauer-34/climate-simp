{
 "cells": [
  {
   "cell_type": "markdown",
   "id": "gothic-concert",
   "metadata": {},
   "source": [
    "# getStats\n",
    "\n",
    "Function takes a list of files (.nc) and returns statistical quantities of interest to tune our forcing. We need to compute the: \n",
    "\n",
    "- radiation anomaly (standard deviation?)\n",
    "- maximum, average, and minimum shortwave radiation limits\n",
    "- temperature mean\n",
    "- temperature anomaly (standard deviation?)\n",
    "- humidity mean \n",
    "- humidity anomaly (standard deviation?)\n",
    "- precipitation mean\n",
    "- precipitation anomaly (standard deviation?)\n",
    "- the mean precipitation in any one event"
   ]
  },
  {
   "cell_type": "code",
   "execution_count": 3,
   "id": "instructional-prototype",
   "metadata": {},
   "outputs": [],
   "source": [
    "import numpy as np\n",
    "import xarray as xr\n",
    "import glob"
   ]
  },
  {
   "cell_type": "code",
   "execution_count": null,
   "id": "civic-government",
   "metadata": {},
   "outputs": [],
   "source": [
    "def getStats(rad_file_array, precip_file_array):\n",
    "    \n",
    "    rad_mean, rad_std, rad_max, rad_min = getMeanStdMaxMin(rad_file_array, \"F_solar\") \n",
    "    \n",
    "    #temp_mean, temp_std, temp_max, temp_min = getMeanStdMaxMin(temp_file_array, \"temperature\")\n",
    "    \n",
    "    #hum_mean, hum_std, hum_max, hum_min = getMeanStdMaxMin(hum_file_array, \"humidity\")\n",
    "    \n",
    "    precip_mean, precip_std, precip_max, precip_min = getMeanStdMaxMin(precip_file_array, \"precip\")\n",
    "    \n",
    "    indiv_precip_event_mean = getPrecipEventMeansXARRAY(precip_file_array, threshold) # threshold = precip to consider an event\n",
    "    \n",
    "    ###\n",
    "    stats_array = np.zeros(7) # initialize stats array\n",
    "    \n",
    "    # [rad_anom_norm, sw_limit, sw_average, sw_min, temp_mean, temp_anom_norm, hum_mean, hum_anom_mean, mean_precip, std_precip, indiv_event_mean] in getForcingFunctions\n",
    "    \n",
    "    stats_array[0] = rad_std\n",
    "    stats_array[1] = rad_max\n",
    "    stats_array[2] = rad_mean\n",
    "    stats_array[3] = rad_min\n",
    "    \n",
    "    #stats_array[4] = temp_mean\n",
    "    #stats_array[5] = temp_std\n",
    "    \n",
    "    #stats_array[6] = hum_mean\n",
    "    #stats_array[7] = hum_std\n",
    "    \n",
    "    stats_array[8] = precip_mean\n",
    "    stats_array[9] = precip_std\n",
    "    \n",
    "    stats_array[10] = indiv_precip_event_mean\n",
    "    \n",
    "    return stats_array"
   ]
  },
  {
   "cell_type": "code",
   "execution_count": 40,
   "id": "electrical-ability",
   "metadata": {},
   "outputs": [],
   "source": [
    "def getMeanStdMaxMin(filearray, data_var):\n",
    "    \n",
    "    N = len(filearray) \n",
    "    param_all_array = []\n",
    "    param_max_array = []\n",
    "    param_min_array = []\n",
    "    \n",
    "    for i in range(0, N):\n",
    "        tmp_dataset = xr.open_dataset(filearray[i]) # Open ith summer's dataset\n",
    "        \n",
    "        tmp_param = tmp_dataset[data_var].values # open the \"data_var\" values for all summers\n",
    "        \n",
    "        tmp_param_max = np.amax(tmp_param) # take the file max\n",
    "        tmp_param_min = np.amin(tmp_param) # take the file min\n",
    "        \n",
    "        param_max_array.append(tmp_param_max) # add file max to list\n",
    "        param_min_array.append(tmp_param_min) # add file min to list\n",
    "        param_all_array.append(tmp_param) # add values to total array\n",
    "    \n",
    "    param_all_array = np.concatenate(param_all_array) # concatenate arrays\n",
    "    \n",
    "    param_max = np.amax(param_max_array) # determine max of all files\n",
    "    param_min = np.amin(param_min_array) # determine min of all files\n",
    "    \n",
    "    param_mean = np.mean(param_all_array) # determine mean of all files\n",
    "    param_std = np.std(param_all_array) # determine standard deviation of all files\n",
    "    \n",
    "    return param_mean, param_std, param_max, param_min"
   ]
  },
  {
   "cell_type": "code",
   "execution_count": null,
   "id": "joined-classic",
   "metadata": {},
   "outputs": [],
   "source": [
    "def getPrecipEventMeansXARRAY(filearray, threshold):\n",
    "    \n",
    "    N_files = len(filearray) # number of files\n",
    "    \n",
    "    precip_all_array = []\n",
    "    event_array = []\n",
    "    tmp_event = []\n",
    "    \n",
    "    # loop through all files and find the following things:\n",
    "    \n",
    "    for i in range(0,N_files):\n",
    "        \n",
    "        tmp_dataset = xr.open_dataset(filearray[i]) # open a file's worth of data\n",
    "        \n",
    "        tmp_precip = tmp_dataset[\"precip\"].values # extract precip values as a numpy array EDIT KEYWORD WHEN YOU KNOW MORE\n",
    "    \n",
    "        N_sum = len(tmp_precip.shape[1]) # number of summers\n",
    "        \n",
    "        for k in range(0, N_sum): # loop through the summers\n",
    "            \n",
    "            index_array = getEventIndicies(tmp_precip[:,k], threshold) # find within this numpy array where an event has occured relative to some threshold\n",
    "    \n",
    "            N_mins = len(tmp_precip.shape[0])\n",
    "        \n",
    "            for j in range(0, N_mins): \n",
    "                \n",
    "                # loop through minute indices. if index j is in index array, then precip event happened at\n",
    "                # that index. add those precip values to a temporary event array. \n",
    "\n",
    "                if j in index_array:\n",
    "                    tmp_event.append(float(tmp_precip[j,k])) # append precipitation amount for an event\n",
    "\n",
    "                    if j+1 in index_array: # if the next member of the array is also part of the event, keep looping\n",
    "                        continue\n",
    "\n",
    "                    else:\n",
    "                        event_array.append(tmp_event) # if the next member is not part of the event, append the event to a list of all events\n",
    "                        tmp_event = [] # clear temp event array\n",
    "\n",
    "                else:\n",
    "                    continue \n",
    "                    \n",
    "    \n",
    "    N_events = len(event_array)\n",
    "    mean_array = []\n",
    "    \n",
    "    for i in range(0, N_events):\n",
    "        tmp_mean = np.mean(event_array[i])\n",
    "        mean_array.append(tmp_mean) # take mean of individual events and add them to an array\n",
    "    \n",
    "    return np.mean(mean_array) # mean of all events (\"mean of the mean of individual events\")"
   ]
  },
  {
   "cell_type": "markdown",
   "id": "driving-flexibility",
   "metadata": {},
   "source": [
    "Everything below this is either:\n",
    "- old pieces of code used as toy models for the above\n",
    "- testing objects for code"
   ]
  },
  {
   "cell_type": "code",
   "execution_count": 5,
   "id": "occupational-virgin",
   "metadata": {},
   "outputs": [],
   "source": [
    "def getEventIndicies(precip, threshold):\n",
    "    \n",
    "    return np.where(precip > threshold)[0]"
   ]
  },
  {
   "cell_type": "code",
   "execution_count": 11,
   "id": "light-organ",
   "metadata": {},
   "outputs": [],
   "source": [
    "def getPrecipEventMeans(precip):\n",
    "    \n",
    "    precip_all_array = []\n",
    "\n",
    "    index_array = getEventIndicies(precip)\n",
    "    \n",
    "    N = len(precip)\n",
    "    event_array = []\n",
    "    tmp_event = []\n",
    "    \n",
    "    for i in range(0, N):\n",
    "        \n",
    "        if i in index_array:\n",
    "            tmp_event.append(float(precip[i]))\n",
    "            \n",
    "            if i+1 in index_array:\n",
    "                continue\n",
    "            \n",
    "            else:\n",
    "                event_array.append(tmp_event)\n",
    "                tmp_event = []\n",
    "            \n",
    "        else:\n",
    "            continue\n",
    "            \n",
    "    N_events = len(event_array)\n",
    "    mean_array = []\n",
    "    \n",
    "    for i in range(0, N_events):\n",
    "        tmp_mean = np.mean(event_array[i])\n",
    "        mean_array.append(tmp_mean)\n",
    "    \n",
    "            \n",
    "    return np.mean(mean_array)"
   ]
  },
  {
   "cell_type": "code",
   "execution_count": 4,
   "id": "congressional-prefix",
   "metadata": {},
   "outputs": [],
   "source": [
    "def getTestStats(filearray):\n",
    "    \n",
    "    N = len(filearray)\n",
    "    Tup_all_array = []\n",
    "    Tup_max_array = []\n",
    "    \n",
    "    for i in range(0, N):\n",
    "        tmp_dataset = xr.open_dataset(filearray[i])\n",
    "        \n",
    "        tmp_Tup = tmp_dataset[\"c_f\"].values\n",
    "        tmp_Tup_max = np.amax(tmp_Tup)\n",
    "        \n",
    "        Tup_max_array.append(tmp_Tup_max)\n",
    "        Tup_all_array.append(tmp_Tup)\n",
    "    \n",
    "    Tup_all_array = np.concatenate(Tup_all_array)\n",
    "    \n",
    "    Tup_max = np.amax(Tup_max_array)\n",
    "    \n",
    "    Tup_mean = np.mean(Tup_all_array)\n",
    "    Tup_std = np.std(Tup_all_array)\n",
    "    \n",
    "    return Tup_mean, Tup_std, Tup_max"
   ]
  },
  {
   "cell_type": "code",
   "execution_count": 44,
   "id": "certified-white",
   "metadata": {},
   "outputs": [
    {
     "data": {
      "text/plain": [
       "(260.41965, 273.0409, 1000.0, 0.0)"
      ]
     },
     "execution_count": 44,
     "metadata": {},
     "output_type": "execute_result"
    }
   ],
   "source": [
    "path = \"/data/keeling/a/adammb4/SGP_proj_2021/DATA/\"\n",
    "files = glob.glob(path+\"JCli_*.nc\")\n",
    "\n",
    "test = xr.open_dataset(files[0])\n",
    "\n",
    "getMeanStdMaxMin(files, \"F_solar\")"
   ]
  },
  {
   "cell_type": "code",
   "execution_count": 48,
   "id": "equal-queen",
   "metadata": {},
   "outputs": [
    {
     "ename": "TypeError",
     "evalue": "only size-1 arrays can be converted to Python scalars",
     "output_type": "error",
     "traceback": [
      "\u001b[0;31m---------------------------------------------------------------------------\u001b[0m",
      "\u001b[0;31mTypeError\u001b[0m                                 Traceback (most recent call last)",
      "\u001b[0;32m<ipython-input-48-77a1edff28bb>\u001b[0m in \u001b[0;36m<module>\u001b[0;34m\u001b[0m\n\u001b[1;32m      1\u001b[0m \u001b[0mprecip\u001b[0m \u001b[0;34m=\u001b[0m \u001b[0mnp\u001b[0m\u001b[0;34m.\u001b[0m\u001b[0marray\u001b[0m\u001b[0;34m(\u001b[0m\u001b[0;34m[\u001b[0m\u001b[0;34m[\u001b[0m\u001b[0;36m0\u001b[0m\u001b[0;34m,\u001b[0m \u001b[0;36m0\u001b[0m\u001b[0;34m,\u001b[0m \u001b[0;36m0\u001b[0m\u001b[0;34m,\u001b[0m \u001b[0;36m2\u001b[0m\u001b[0;34m,\u001b[0m \u001b[0;36m3\u001b[0m\u001b[0;34m,\u001b[0m \u001b[0;36m4\u001b[0m\u001b[0;34m,\u001b[0m \u001b[0;36m2\u001b[0m\u001b[0;34m,\u001b[0m \u001b[0;36m1\u001b[0m\u001b[0;34m,\u001b[0m \u001b[0;36m0\u001b[0m\u001b[0;34m,\u001b[0m \u001b[0;36m0\u001b[0m\u001b[0;34m,\u001b[0m \u001b[0;36m1\u001b[0m\u001b[0;34m,\u001b[0m \u001b[0;36m2\u001b[0m\u001b[0;34m,\u001b[0m \u001b[0;36m0\u001b[0m\u001b[0;34m]\u001b[0m\u001b[0;34m,\u001b[0m \u001b[0;34m[\u001b[0m\u001b[0;36m0\u001b[0m\u001b[0;34m,\u001b[0m \u001b[0;36m1\u001b[0m\u001b[0;34m,\u001b[0m \u001b[0;36m2\u001b[0m\u001b[0;34m,\u001b[0m \u001b[0;36m0\u001b[0m\u001b[0;34m,\u001b[0m \u001b[0;36m0\u001b[0m\u001b[0;34m,\u001b[0m\u001b[0;36m1\u001b[0m\u001b[0;34m,\u001b[0m\u001b[0;36m0\u001b[0m\u001b[0;34m,\u001b[0m\u001b[0;36m0\u001b[0m\u001b[0;34m,\u001b[0m\u001b[0;36m1\u001b[0m\u001b[0;34m,\u001b[0m\u001b[0;36m2\u001b[0m\u001b[0;34m,\u001b[0m\u001b[0;36m3\u001b[0m\u001b[0;34m,\u001b[0m\u001b[0;36m0\u001b[0m\u001b[0;34m,\u001b[0m\u001b[0;36m0\u001b[0m\u001b[0;34m]\u001b[0m\u001b[0;34m]\u001b[0m\u001b[0;34m)\u001b[0m\u001b[0;34m\u001b[0m\u001b[0;34m\u001b[0m\u001b[0m\n\u001b[1;32m      2\u001b[0m \u001b[0;34m\u001b[0m\u001b[0m\n\u001b[0;32m----> 3\u001b[0;31m \u001b[0mgetPrecipEventMeans\u001b[0m\u001b[0;34m(\u001b[0m\u001b[0mprecip\u001b[0m\u001b[0;34m)\u001b[0m\u001b[0;34m\u001b[0m\u001b[0;34m\u001b[0m\u001b[0m\n\u001b[0m",
      "\u001b[0;32m<ipython-input-11-f0acec32eac3>\u001b[0m in \u001b[0;36mgetPrecipEventMeans\u001b[0;34m(precip)\u001b[0m\n\u001b[1;32m     10\u001b[0m \u001b[0;34m\u001b[0m\u001b[0m\n\u001b[1;32m     11\u001b[0m         \u001b[0;32mif\u001b[0m \u001b[0mi\u001b[0m \u001b[0;32min\u001b[0m \u001b[0mindex_array\u001b[0m\u001b[0;34m:\u001b[0m\u001b[0;34m\u001b[0m\u001b[0;34m\u001b[0m\u001b[0m\n\u001b[0;32m---> 12\u001b[0;31m             \u001b[0mtmp_event\u001b[0m\u001b[0;34m.\u001b[0m\u001b[0mappend\u001b[0m\u001b[0;34m(\u001b[0m\u001b[0mfloat\u001b[0m\u001b[0;34m(\u001b[0m\u001b[0mprecip\u001b[0m\u001b[0;34m[\u001b[0m\u001b[0mi\u001b[0m\u001b[0;34m]\u001b[0m\u001b[0;34m)\u001b[0m\u001b[0;34m)\u001b[0m\u001b[0;34m\u001b[0m\u001b[0;34m\u001b[0m\u001b[0m\n\u001b[0m\u001b[1;32m     13\u001b[0m \u001b[0;34m\u001b[0m\u001b[0m\n\u001b[1;32m     14\u001b[0m             \u001b[0;32mif\u001b[0m \u001b[0mi\u001b[0m\u001b[0;34m+\u001b[0m\u001b[0;36m1\u001b[0m \u001b[0;32min\u001b[0m \u001b[0mindex_array\u001b[0m\u001b[0;34m:\u001b[0m\u001b[0;34m\u001b[0m\u001b[0;34m\u001b[0m\u001b[0m\n",
      "\u001b[0;31mTypeError\u001b[0m: only size-1 arrays can be converted to Python scalars"
     ]
    }
   ],
   "source": [
    "precip = np.array([[0, 0, 0, 2, 3, 4, 2, 1, 0, 0, 1, 2, 0], [0, 1, 2, 0, 0,1,0,0,1,2,3,0,0]])\n",
    "\n",
    "getPrecipEventMeans(precip)"
   ]
  },
  {
   "cell_type": "code",
   "execution_count": 46,
   "id": "experimental-index",
   "metadata": {},
   "outputs": [
    {
     "data": {
      "text/plain": [
       "2"
      ]
     },
     "execution_count": 46,
     "metadata": {},
     "output_type": "execute_result"
    }
   ],
   "source": [
    "a = np.array([[1, 2], [3, 4]])\n",
    "\n",
    "a.shape[1]"
   ]
  },
  {
   "cell_type": "code",
   "execution_count": null,
   "id": "bottom-belief",
   "metadata": {},
   "outputs": [],
   "source": [
    "np.mean(a, axis=1)"
   ]
  }
 ],
 "metadata": {
  "kernelspec": {
   "display_name": "Python 3",
   "language": "python",
   "name": "python3"
  },
  "language_info": {
   "codemirror_mode": {
    "name": "ipython",
    "version": 3
   },
   "file_extension": ".py",
   "mimetype": "text/x-python",
   "name": "python",
   "nbconvert_exporter": "python",
   "pygments_lexer": "ipython3",
   "version": "3.8.5"
  }
 },
 "nbformat": 4,
 "nbformat_minor": 5
}

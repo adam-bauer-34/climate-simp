{
 "cells": [
  {
   "cell_type": "markdown",
   "id": "gothic-concert",
   "metadata": {},
   "source": [
    "# getStats\n",
    "\n",
    "Function takes a list of files (.nc) and returns statistical quantities of interest to tune our forcing."
   ]
  },
  {
   "cell_type": "code",
   "execution_count": 7,
   "id": "instructional-prototype",
   "metadata": {},
   "outputs": [],
   "source": [
    "import numpy as np\n",
    "import glob"
   ]
  },
  {
   "cell_type": "code",
   "execution_count": null,
   "id": "amino-paintball",
   "metadata": {},
   "outputs": [],
   "source": [
    "def getStats(file_array):\n",
    "    \n",
    "    tot_files = len(file_array) # gives basis for for loops \n",
    "    \n",
    "    stats_array = np.zeros(shape=()) # initialize stats array\n",
    "    \n",
    "    for i in range(0, tot_files):\n",
    "        \n",
    "        \n",
    "    \n",
    "    return stats_array"
   ]
  }
 ],
 "metadata": {
  "kernelspec": {
   "display_name": "Python 3",
   "language": "python",
   "name": "python3"
  },
  "language_info": {
   "codemirror_mode": {
    "name": "ipython",
    "version": 3
   },
   "file_extension": ".py",
   "mimetype": "text/x-python",
   "name": "python",
   "nbconvert_exporter": "python",
   "pygments_lexer": "ipython3",
   "version": "3.8.5"
  }
 },
 "nbformat": 4,
 "nbformat_minor": 5
}

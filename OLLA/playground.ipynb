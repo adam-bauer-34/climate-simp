{
 "cells": [
  {
   "cell_type": "code",
   "execution_count": 2,
   "id": "fatal-think",
   "metadata": {},
   "outputs": [
    {
     "ename": "ImportError",
     "evalue": "cannot import name 'getPrecip' from 'getForcingFunctions' (/data/keeling/a/adammb4/SGP_proj_2021/OLLA/getForcingFunctions.py)",
     "output_type": "error",
     "traceback": [
      "\u001b[0;31m---------------------------------------------------------------------------\u001b[0m",
      "\u001b[0;31mImportError\u001b[0m                               Traceback (most recent call last)",
      "\u001b[0;32m<ipython-input-2-98c4553d8652>\u001b[0m in \u001b[0;36m<module>\u001b[0;34m\u001b[0m\n\u001b[1;32m      2\u001b[0m \u001b[0;32mimport\u001b[0m \u001b[0mmatplotlib\u001b[0m\u001b[0;34m.\u001b[0m\u001b[0mpyplot\u001b[0m \u001b[0;32mas\u001b[0m \u001b[0mplt\u001b[0m\u001b[0;34m\u001b[0m\u001b[0;34m\u001b[0m\u001b[0m\n\u001b[1;32m      3\u001b[0m \u001b[0;32mimport\u001b[0m \u001b[0mscipy\u001b[0m\u001b[0;34m.\u001b[0m\u001b[0mstats\u001b[0m \u001b[0;32mas\u001b[0m \u001b[0msts\u001b[0m\u001b[0;34m\u001b[0m\u001b[0;34m\u001b[0m\u001b[0m\n\u001b[0;32m----> 4\u001b[0;31m \u001b[0;32mfrom\u001b[0m \u001b[0mgetForcingFunctions\u001b[0m \u001b[0;32mimport\u001b[0m \u001b[0mgetInterpolate\u001b[0m\u001b[0;34m,\u001b[0m \u001b[0mgetPrecip\u001b[0m\u001b[0;34m\u001b[0m\u001b[0;34m\u001b[0m\u001b[0m\n\u001b[0m\u001b[1;32m      5\u001b[0m \u001b[0;32mimport\u001b[0m \u001b[0mrandom\u001b[0m\u001b[0;34m\u001b[0m\u001b[0;34m\u001b[0m\u001b[0m\n\u001b[1;32m      6\u001b[0m \u001b[0;32mimport\u001b[0m \u001b[0mglob\u001b[0m\u001b[0;34m\u001b[0m\u001b[0;34m\u001b[0m\u001b[0m\n",
      "\u001b[0;31mImportError\u001b[0m: cannot import name 'getPrecip' from 'getForcingFunctions' (/data/keeling/a/adammb4/SGP_proj_2021/OLLA/getForcingFunctions.py)"
     ]
    }
   ],
   "source": [
    "import numpy as np\n",
    "import matplotlib.pyplot as plt \n",
    "import scipy.stats as sts \n",
    "from getForcingFunctions import getInterpolate, getPrecip\n",
    "import random\n",
    "import glob"
   ]
  },
  {
   "cell_type": "code",
   "execution_count": null,
   "id": "helpful-amendment",
   "metadata": {},
   "outputs": [],
   "source": [
    "x = np.linspace(0, np.pi, 10000)"
   ]
  },
  {
   "cell_type": "code",
   "execution_count": null,
   "id": "advisory-variable",
   "metadata": {},
   "outputs": [],
   "source": [
    "diurn_cycle_raw = 1290 * np.sin(x)"
   ]
  },
  {
   "cell_type": "code",
   "execution_count": null,
   "id": "distinct-garage",
   "metadata": {},
   "outputs": [],
   "source": [
    "day_length = 13\n",
    "\n",
    "free_time = (24 - day_length)*60/2. # In minutes!\n",
    "    \n",
    "free_time = int(free_time)\n",
    "\n",
    "day_time_shift = np.linspace(free_time, day_length*60 + free_time - 1, day_length*60)\n",
    "day_time = np.linspace(1, day_length*60, day_length*60)\n",
    "\n",
    "pre_day = np.zeros(free_time)\n",
    "post_day = np.zeros(free_time) # i.e., the time from sundown to the end of the day\n",
    "    \n",
    "day_avg = 745 * np.sin(np.pi * day_time * (day_length*60)**(-1))\n",
    "\n",
    "tot_day = np.hstack((pre_day, day_avg, post_day))\n",
    "\n",
    "plt.plot(day_avg)\n",
    "\n",
    "len(tot_day)"
   ]
  },
  {
   "cell_type": "code",
   "execution_count": null,
   "id": "certified-germany",
   "metadata": {},
   "outputs": [],
   "source": [
    "vals = sts.pearson3.rvs(-1.4261204198965, loc=1, scale=0.23, size=10000)\n",
    "\n",
    "plt.hist(vals)"
   ]
  },
  {
   "cell_type": "code",
   "execution_count": null,
   "id": "sealed-passage",
   "metadata": {},
   "outputs": [],
   "source": [
    "np.mean(vals), np.amax(vals)"
   ]
  },
  {
   "cell_type": "code",
   "execution_count": null,
   "id": "about-alignment",
   "metadata": {},
   "outputs": [],
   "source": [
    "means = []\n",
    "diurns = []\n",
    "maxes = []\n",
    "\n",
    "randomvalues = sts.pearson3.rvs(-1.4261204198965, loc=1, scale=0.23, size=10000)\n",
    "\n",
    "goodvals = np.where(randomvalues >= 0)[0]\n",
    "\n",
    "for i in range(0, 10000):\n",
    "    goodval_index = np.random.choice(goodvals)\n",
    "    tmp_diurn = day_avg * randomvalues[goodval_index]\n",
    "    tmp_mean = np.mean(tmp_diurn)\n",
    "    tmp_max = np.amax(tmp_diurn)\n",
    "    means.append(tmp_mean)\n",
    "    diurns.append(tmp_diurn)\n",
    "    maxes.append(tmp_max)"
   ]
  },
  {
   "cell_type": "code",
   "execution_count": null,
   "id": "familiar-bernard",
   "metadata": {},
   "outputs": [],
   "source": [
    "np.amax(diurns), np.mean(diurns), np.amax(means)"
   ]
  },
  {
   "cell_type": "code",
   "execution_count": null,
   "id": "identical-admission",
   "metadata": {},
   "outputs": [],
   "source": [
    "plt.hist(means)"
   ]
  },
  {
   "cell_type": "code",
   "execution_count": null,
   "id": "assured-recruitment",
   "metadata": {},
   "outputs": [],
   "source": [
    "betas = np.random.beta(6,.9,size=10000)\n",
    "\n",
    "plt.hist(betas/np.mean(betas),50)\n",
    "\n",
    "sts.skew(betas/np.mean(betas)), np.mean(betas/np.mean(betas)), np.amax(betas/np.mean(betas))"
   ]
  },
  {
   "cell_type": "code",
   "execution_count": null,
   "id": "regulation-bibliography",
   "metadata": {},
   "outputs": [],
   "source": [
    "rho = 0.8\n",
    "\n",
    "newweights = np.random.beta(6,2, size=1000)\n",
    "weights = np.random.beta(6,2, size=1000)\n",
    "\n",
    "for i in range(1, weights.shape[0]):\n",
    "    newweights[i] = rho * newweights[i-1] + (1 - rho**2)**(0.5) * np.random.beta(6,2)\n",
    "\n",
    "means = []\n",
    "\n",
    "for i in range(0, weights.shape[0]):\n",
    "    tmp_diurn = newweights[i] * tot_day\n",
    "    tmp_mean = np.mean(tmp_diurn)\n",
    "    means.append(tmp_mean)\n",
    "    \n",
    "fig, ax = plt.subplots(1,2,figsize=(20,10))\n",
    "\n",
    "ax[0].hist(newweights, 50)\n",
    "ax[1].hist(weights, 50)"
   ]
  },
  {
   "cell_type": "code",
   "execution_count": null,
   "id": "civic-discipline",
   "metadata": {},
   "outputs": [],
   "source": [
    "plt.hist(maxes)"
   ]
  },
  {
   "cell_type": "code",
   "execution_count": null,
   "id": "ethical-drove",
   "metadata": {},
   "outputs": [],
   "source": [
    "test = np.zeros(10000)\n",
    "\n",
    "for i in range(0, test.shape[0]):\n",
    "    test[i] = np.random.beta(5, 1.5)"
   ]
  },
  {
   "cell_type": "code",
   "execution_count": null,
   "id": "artistic-prompt",
   "metadata": {},
   "outputs": [],
   "source": [
    "plt.hist(test)"
   ]
  },
  {
   "cell_type": "code",
   "execution_count": null,
   "id": "oriental-mustang",
   "metadata": {},
   "outputs": [],
   "source": [
    "### PARAMETER SETUP ###\n",
    "    \n",
    "# Some parameters of getRedNoise are fed in from the SGP data, and thus are stored in \n",
    "# stats_array.\n",
    "\n",
    "#rad_anom_norm = 75.\n",
    "rad_anom_norm = 75.\n",
    "\n",
    "# they create an envelope of allowable sw radiation for the model.\n",
    "\n",
    "sw_limit = 1290. # highest allowable daily peak in radiation\n",
    "sw_average = 800.\n",
    "sw_min = 150.  # lowest allowable daily peak in radiation\n",
    "\n",
    "# Set to 0.6 in SLAM, these are correlation coefficients, and must be in (0,1). So for\n",
    "# consistency:\n",
    "\n",
    "r_temp = 0.6\n",
    "r_hum = 0.6\n",
    "r_rad = 0.7\n",
    "\n",
    "day_length = 13 # IN HOURS\n",
    "\n",
    "### CYCLE INITIALIZATION ###\n",
    "\n",
    "# The basic cycle is formed by taking a unit of free_time, then a unit of day_length,\n",
    "# then another unit of free_time. This reconstructs the full 24 hour day, and will be \n",
    "# a useful structure going forward.\n",
    "\n",
    "free_time = (24 - day_length)*60/2. # In minutes!\n",
    "\n",
    "free_time = int(free_time)\n",
    "\n",
    "# Put the time of the day between, say, 9 and 5 and not from 0 to 8.\n",
    "\n",
    "day_time_shift = np.linspace(free_time, day_length*60 + free_time - 1, day_length*60)\n",
    "day_time = np.linspace(1, day_length*60, day_length*60)\n",
    "\n",
    "# Create radiation profiles as sin waves\n",
    "\n",
    "day_max = sw_limit * np.sin(np.pi * day_time * (day_length*60)**(-1))\n",
    "day_avg = sw_average * np.sin(np.pi * day_time * (day_length*60)**(-1))\n",
    "day_min = sw_min * np.sin(np.pi * day_time * (day_length*60)**(-1))\n",
    "\n",
    "# make \"preday\" and \"postday,\" i.e., the time that does not include radiation\n",
    "\n",
    "pre_day = np.linspace(0, free_time - 1, free_time)\n",
    "post_day = np.linspace(day_length*60 + free_time, 24*60 - 1, free_time) # i.e., the time from sundown to the end of the day\n",
    "\n",
    "# make a 'no radiation' array\n",
    "\n",
    "no_rad = np.zeros(len(pre_day))\n",
    "\n",
    "# make an array of times that includes the entire day, from midnight to midnight (the next day)\n",
    "\n",
    "tot_day = np.hstack((pre_day, day_time_shift, post_day))\n",
    "tot_day_sw_max = np.hstack((no_rad, day_max, no_rad))\n",
    "tot_day_sw_avg = np.hstack((no_rad, day_avg, no_rad))\n",
    "tot_day_sw_min = np.hstack((no_rad, day_min, no_rad))"
   ]
  },
  {
   "cell_type": "code",
   "execution_count": null,
   "id": "painful-annual",
   "metadata": {},
   "outputs": [],
   "source": [
    "# now we want to extend the above daily framework to the entire summer!\n",
    "\n",
    "all_summer_time = 92*24*60 # 92 days in summer, 24 hours in a day, 60 mins in an hour\n",
    "\n",
    "sw_max_sum = np.tile(tot_day_sw_max, 92) # make 92 days worth of the same radiation\n",
    "sw_avg_sum = np.tile(tot_day_sw_avg, 92)\n",
    "sw_min_sum = np.tile(tot_day_sw_min, 92)"
   ]
  },
  {
   "cell_type": "code",
   "execution_count": null,
   "id": "diagnostic-inspiration",
   "metadata": {},
   "outputs": [],
   "source": [
    "### CREATE RED NOISE FORCING ###\n",
    "\n",
    "# characteristic time scale of correlation is ~6 hours\n",
    "\n",
    "num_sixhr = 92 * 4 # number of days * number of 6 hour periods per day\n",
    "\n",
    "day_vals = np.linspace(0, 1.5*np.pi, 4)\n",
    "day_trend = np.sin(day_vals)"
   ]
  },
  {
   "cell_type": "code",
   "execution_count": null,
   "id": "sublime-subscription",
   "metadata": {},
   "outputs": [],
   "source": [
    "rad_summer = np.tile(day_trend, 92)\n",
    "\n",
    "i = 1\n",
    "while i < num_sixhr:\n",
    "\n",
    "    rad_rand = random.gauss(0,1)\n",
    "\n",
    "    # add day by day variability; correlate the data\n",
    "    # factor of (1-r^2)^0.5 makes the variance of the temp distribution the same as the\n",
    "    # random distribution's that we chose temp_rand from, i.e., is one\n",
    "\n",
    "    rad_summer[i] = r_rad * rad_summer[i-1] + ((1 - r_rad**2)**(0.5)) * rad_rand\n",
    "\n",
    "    i += 1\n",
    "\n",
    "rad_summer_min = getInterpolate(rad_summer * rad_anom_norm, all_summer_time)"
   ]
  },
  {
   "cell_type": "code",
   "execution_count": null,
   "id": "greenhouse-cardiff",
   "metadata": {},
   "outputs": [],
   "source": [
    "### PRECIP AND CLOUD FORCING ###\n",
    "\n",
    "cf = np.zeros(all_summer_time)\n",
    "F_solar = np.zeros(all_summer_time)\n",
    "\n",
    "j = 0\n",
    "while j < all_summer_time:\n",
    "\n",
    "    rad_val = sw_avg_sum[j] + rad_summer_min[j]\n",
    "    max_rad_val = sw_max_sum[j]\n",
    "    min_rad_val = sw_min_sum[j]\n",
    "\n",
    "    F_solar[j] = rad_val\n",
    "\n",
    "    if F_solar[j] < 0:\n",
    "        F_solar[j] = 0\n",
    "\n",
    "    if F_solar[j] > max_rad_val:\n",
    "        F_solar[j] = max_rad_val\n",
    "\n",
    "    if F_solar[j] < min_rad_val and F_solar[j] > 0:\n",
    "        F_solar[j] = min_rad_val \n",
    "\n",
    "    j += 1\n",
    "    \n",
    "# condition rad_summer_min < - rad_anom_norm * 1.25 implies the cloud red noise must be large to gen precip\n",
    "cloud_atlas = np.where(rad_summer_min < -rad_anom_norm * 1.25) # tells us where clouds are so we can correlate P and F, i.e., make sure \n",
    "# there isn't a lot of radiation on rainy days\n",
    "cloud_count = len(cloud_atlas[0]) # number of cloudy days\n",
    "\n",
    "stats_array = [0,0,0,0,200,.02,.02]\n",
    "precip = np.zeros(all_summer_time)\n",
    "precip_array = getPrecip(stats_array)\n",
    "\n",
    "k = 0\n",
    "\n",
    "# make sure precip only happens on days where there are clouds \n",
    "while k < len(precip_array):\n",
    "    rand_cloud_dex = random.randint(0, cloud_count-1)\n",
    "    precip_dex = cloud_atlas[rand_cloud_dex]\n",
    "    precip[precip_dex] = precip_array[k]\n",
    "    k += 1"
   ]
  },
  {
   "cell_type": "code",
   "execution_count": null,
   "id": "welsh-excellence",
   "metadata": {},
   "outputs": [],
   "source": [
    "test = np.where(rad_summer_min < -rad_anom_norm * 1.25)\n",
    "testing = len(test[0])\n",
    "test[0].sort()\n",
    "cloud_atlas.sort()"
   ]
  },
  {
   "cell_type": "code",
   "execution_count": null,
   "id": "trained-typing",
   "metadata": {},
   "outputs": [],
   "source": [
    "import collections \n",
    "\n",
    "if collections.Counter(test[0]) == collections.Counter(cloud_atlas): \n",
    "    print (\"The lists are identical\") \n",
    "else : \n",
    "    print (\"The lists are not identical\") "
   ]
  },
  {
   "cell_type": "code",
   "execution_count": 14,
   "id": "present-browse",
   "metadata": {},
   "outputs": [],
   "source": [
    "def getRedNoise(stats_array):\n",
    "    \n",
    "    ### PARAMETER SETUP ###\n",
    "    \n",
    "    # Some parameters of getRedNoise are fed in from the SGP data, and thus are stored in \n",
    "    # stats_array.\n",
    "    \n",
    "    #rad_anom_norm = 75.\n",
    "    rad_anom_norm = stats_array[0]\n",
    "    \n",
    "    # they create an envelope of allowable sw radiation for the model.\n",
    "    \n",
    "    sw_limit = stats_array[1] # highest allowable daily peak in radiation\n",
    "    sw_average = stats_array[2] # average daily peak in radiation\n",
    "    sw_min = stats_array[3]  # lowest allowable daily peak in radiation\n",
    "    \n",
    "    #temp_mean = stats_array[4]\n",
    "    #temp_anom_norm = stats_array[5]\n",
    "    \n",
    "    #hum_mean = stats_array[6]\n",
    "    #hum_anom_mean = stats_array[7]\n",
    "    \n",
    "    # Set to 0.6 in SLAM, these are correlation coefficients, and must be in (0,1). So for\n",
    "    # consistency:\n",
    "    \n",
    "    r_temp = 0.6\n",
    "    r_hum = 0.6\n",
    "    r_rad = 0.7\n",
    "    \n",
    "    day_length = 13 # IN HOURS\n",
    "    \n",
    "    ### CYCLE INITIALIZATION ###\n",
    "    \n",
    "    # The basic cycle is formed by taking a unit of free_time, then a unit of day_length,\n",
    "    # then another unit of free_time. This reconstructs the full 24 hour day, and will be \n",
    "    # a useful structure going forward.\n",
    "    \n",
    "    free_time = (24 - day_length)*60/2. # In minutes!\n",
    "    \n",
    "    free_time = int(free_time)\n",
    "    \n",
    "    # Put the time of the day between, say, 9 and 5 and not from 0 to 8.\n",
    "    \n",
    "    day_time_shift = np.linspace(free_time, day_length*60 + free_time - 1, day_length*60)\n",
    "    day_time = np.linspace(1, day_length*60, day_length*60)\n",
    "    \n",
    "    # Create radiation profiles as sin waves\n",
    "    \n",
    "    day_max = sw_limit * np.sin(np.pi * day_time * (day_length*60)**(-1))\n",
    "    day_avg = sw_average * np.sin(np.pi * day_time * (day_length*60)**(-1))\n",
    "    day_min = sw_min * np.sin(np.pi * day_time * (day_length*60)**(-1))\n",
    "    \n",
    "    # make \"preday\" and \"postday,\" i.e., the time that does not include radiation\n",
    "    \n",
    "    pre_day = np.linspace(0, free_time - 1, free_time)\n",
    "    post_day = np.linspace(day_length*60 + free_time, 24*60 - 1, free_time) # i.e., the time from sundown to the end of the day\n",
    "    \n",
    "    # make a 'no radiation' array\n",
    "    \n",
    "    no_rad = np.zeros(len(pre_day))\n",
    "    \n",
    "    # make an array of times that includes the entire day, from midnight to midnight (the next day)\n",
    "    \n",
    "    tot_day = np.hstack((pre_day, day_time_shift, post_day))\n",
    "    tot_day_sw_max = np.hstack((no_rad, day_max, no_rad))\n",
    "    tot_day_sw_avg = np.hstack((no_rad, day_avg, no_rad))\n",
    "    tot_day_sw_min = np.hstack((no_rad, day_min, no_rad))\n",
    "    \n",
    "    # now we want to extend the above daily framework to the entire summer!\n",
    "    \n",
    "    all_summer_time = 92*24*60 # 92 days in summer, 24 hours in a day, 60 mins in an hour\n",
    "    \n",
    "    sw_max_sum = np.tile(tot_day_sw_max, 92) # make 92 days worth of the same radiation\n",
    "    sw_avg_sum = np.tile(tot_day_sw_avg, 92)\n",
    "    sw_min_sum = np.tile(tot_day_sw_min, 92)\n",
    "    \n",
    "    ### CREATE RED NOISE FORCING ###\n",
    "    \n",
    "    # characteristic time scale of correlation is ~6 hours\n",
    "    \n",
    "    num_sixhr = 92 * 4 # number of days * number of 6 hour periods per day\n",
    "    \n",
    "    day_vals = np.linspace(0, 1.5*np.pi, 4)\n",
    "    day_trend = np.sin(day_vals)\n",
    "    \n",
    "    #temp_summer = np.tile(day_trend, 92) # makes an array with 92 copies of temp_day back to back\n",
    "    #hum_summer = np.tile(day_trend, 92) \n",
    "    \n",
    "    rad_summer = np.tile(day_trend, 92)\n",
    "    \n",
    "    i = 1\n",
    "    while i < num_sixhr:\n",
    "        \n",
    "        #temp_rand = random.gauss(0,1) # sample a gaussian distribution with mean = 0 and std = 1\n",
    "        #hum_rand = random.gauss(0,1) # UNCORRELATED TEMP AND HUM \n",
    "        \n",
    "        rad_rand = random.gauss(0,1)\n",
    "        \n",
    "        # add day by day variability; correlate the data\n",
    "        # factor of (1-r^2)^0.5 makes the variance of the temp distribution the same as the\n",
    "        # random distribution's that we chose temp_rand from, i.e., is one\n",
    "        \n",
    "        #temp_summer[i] = r_temp * temp_summer[i-1] + ((1 - r_temp**2)**(0.5)) * temp_rand\n",
    "        #hum_summer[i] = r_hum * hum_summer[i-1] + ((1 - r_hum**2)**(0.5)) * hum_rand\n",
    "        \n",
    "        rad_summer[i] = r_rad * rad_summer[i-1] + ((1 - r_rad**2)**(0.5)) * rad_rand\n",
    "        \n",
    "        i += 1\n",
    "    \n",
    "    #temp_summer_min = getInterpolate(temp_mean + temp_summer * temp_anom_norm, all_summer_time)\n",
    "    #hum_summer_min = getInterpolate(hum_mean + hum_summer * hum_anom_norm, all_summer_time)\n",
    "    \n",
    "    rad_summer_min = getInterpolate(rad_summer * rad_anom_norm, all_summer_time)\n",
    "    \n",
    "    # THIS FINISHES TEMPERATURE AND HUMIDITY\n",
    "    \n",
    "    ### PRECIP AND CLOUD FORCING ###\n",
    "    \n",
    "    cf = np.zeros(all_summer_time)\n",
    "    F_solar = np.zeros(all_summer_time)\n",
    "    \n",
    "    cloud_count = 0\n",
    "    cloud_atlas = [] # tells us where clouds are so we can correlate P and F, i.e., make sure \n",
    "    # there isn't a lot of radiation on rainy days\n",
    "    \n",
    "    j = 0\n",
    "    while j < all_summer_time:\n",
    "        \n",
    "        rad_val = sw_avg_sum[j] + rad_summer_min[j]\n",
    "        max_rad_val = sw_max_sum[j]\n",
    "        min_rad_val = sw_min_sum[j]\n",
    "        \n",
    "        # cloud red noise has to be large for the cloud atlas to generate precip\n",
    "        if rad_summer_min[j] < -rad_anom_norm * 1.25: \n",
    "            cloud_atlas.append(j)\n",
    "            cloud_count += 1\n",
    "            \n",
    "        F_solar[j] = rad_val\n",
    "        \n",
    "        if F_solar[j] < 0:\n",
    "            F_solar[j] = 0\n",
    "        \n",
    "        if F_solar[j] > max_rad_val:\n",
    "            F_solar[j] = max_rad_val\n",
    "            \n",
    "        if F_solar[j] < min_rad_val and F_solar[j] > 0:\n",
    "            F_solar[j] = min_rad_val \n",
    "        \n",
    "        \"\"\"\n",
    "        cf[j] = - rad_summer_min[j] * (2 * sw_limit)**(-1)\n",
    "        \n",
    "        if cf[j] > 1:\n",
    "            cf[j] = 1\n",
    "        \n",
    "        if cf[j] < 0:\n",
    "            cf[j] = 0\n",
    "        \"\"\"\n",
    "        \n",
    "        j += 1\n",
    "        \n",
    "    precip = np.zeros(all_summer_time)\n",
    "    precip_array = getPrecip(stats_array)\n",
    "    \n",
    "    # make sure that the number of clouds per minute outnumbers the number of minutes it is raining\n",
    "    i = 0\n",
    "    j = 1\n",
    "    while i < j:\n",
    "        if cloud_count > len(precip_array) * 60:\n",
    "            j = -1\n",
    "            \n",
    "        else:\n",
    "            precip_array = getPrecip(stats_array)\n",
    "            \n",
    "    ### \n",
    "    # define array of EVENT indices\n",
    "    ###\n",
    "    \n",
    "    min_rate = 20\n",
    "    \n",
    "    hours = int((cloud_count - cloud_count%min_rate)/float(min_rate)) # needs to be a multiple of 60 for our purposes \n",
    "    cloud_atlas_trimmed = np.asarray(cloud_atlas)[0:hours*min_rate]\n",
    "    event_arrays = np.split(cloud_atlas_trimmed, hours)\n",
    "    event_count = len(event_arrays)\n",
    "    \n",
    "    k = 0\n",
    "    # make sure precip only happens on days where there are clouds \n",
    "    while k < len(precip_array):\n",
    "        rand_event_dex = random.randint(0, event_count-1)\n",
    "        event_start_index = np.amin(event_arrays[rand_event_dex])\n",
    "        event_end_index = np.amax(event_arrays[rand_event_dex])\n",
    "        precip[event_start_index:event_end_index] = precip_array[k]/float(min_rate)\n",
    "        k += 1\n",
    "    \n",
    "    return F_solar, precip, cloud_atlas, cloud_count, precip_array"
   ]
  },
  {
   "cell_type": "code",
   "execution_count": 2,
   "id": "faced-exercise",
   "metadata": {},
   "outputs": [],
   "source": [
    "def getInterpolate(array, new_length):\n",
    "    old_time = np.linspace(0, new_length - 1, len(array))\n",
    "    new_time = np.linspace(0, new_length - 1, new_length)\n",
    "    new_array = np.interp(new_time, old_time, array)\n",
    "    \n",
    "    return new_array"
   ]
  },
  {
   "cell_type": "code",
   "execution_count": 16,
   "id": "tamil-start",
   "metadata": {},
   "outputs": [],
   "source": [
    "import numpy as np\n",
    "\n",
    "def getPrecip(stats_array):\n",
    "    \n",
    "    # Take the relevant statistics from the SGP data to tune our precip\n",
    "    # events\n",
    "    \n",
    "    cum_precip = stats_array[4] # average total rainfall in a summer\n",
    "    std_precip = stats_array[5]\n",
    "    \n",
    "    indiv_event_mean = stats_array[6]\n",
    "    \n",
    "    # Generate a normal distribution for the cumulative rain?\n",
    "    \n",
    "    cumulative_rain = np.random.gamma(cum_precip, scale=1.0) # sample a dist for tot rain\n",
    "    #print(cumulative_rain)\n",
    "    \n",
    "    precip_events = []\n",
    "\n",
    "    # Confused about this statement. What does it mean for the sum of the \n",
    "    # precipitation events to be less than the *distribution* of \n",
    "    # cumulative rain events?\n",
    "    \n",
    "    while cumulative_rain > np.sum(precip_events):\n",
    "        tmp_precip = np.random.gamma(indiv_event_mean, scale=.6) # why from a gamma dist?\n",
    "        if tmp_precip < 0.2:\n",
    "            continue \n",
    "        \n",
    "        elif tmp_precip > 2.5:\n",
    "            continue \n",
    "            \n",
    "        else:\n",
    "            precip_events.append(tmp_precip)\n",
    "    \n",
    "    #print(precip_events)\n",
    "    \n",
    "    return precip_events"
   ]
  },
  {
   "cell_type": "code",
   "execution_count": 20,
   "id": "considered-habitat",
   "metadata": {},
   "outputs": [],
   "source": [
    "array = [75, 1090, 900, 140, 200, 2 * 10**(-2), .6]\n",
    "\n",
    "rad, prec, atlas, count, events = getRedNoise(array)"
   ]
  },
  {
   "cell_type": "code",
   "execution_count": 21,
   "id": "floppy-struggle",
   "metadata": {},
   "outputs": [
    {
     "data": {
      "text/plain": [
       "[<matplotlib.lines.Line2D at 0x2b1ef28bebe0>]"
      ]
     },
     "execution_count": 21,
     "metadata": {},
     "output_type": "execute_result"
    },
    {
     "data": {
      "image/png": "[encoded data removed]",
      "text/plain": [
       "<Figure size 1440x720 with 1 Axes>"
      ]
     },
     "metadata": {
      "needs_background": "light"
     },
     "output_type": "display_data"
    }
   ],
   "source": [
    "fig, ax = plt.subplots(1, figsize=(20,10))\n",
    "\n",
    "ax.plot(prec)"
   ]
  },
  {
   "cell_type": "code",
   "execution_count": null,
   "id": "consolidated-increase",
   "metadata": {},
   "outputs": [],
   "source": [
    "day = np.split(prec, 92)\n",
    "fig, ax = plt.subplots(10, figsize=(20,10))\n",
    "for i in range(0, 10):\n",
    "    ax[i].plot(day[i+80])"
   ]
  },
  {
   "cell_type": "code",
   "execution_count": null,
   "id": "dirty-blade",
   "metadata": {},
   "outputs": [],
   "source": [
    "test = np.zeros(count)\n",
    "for i in range(0,count-1):\n",
    "    if atlas[i+1] - atlas[i] == 1:\n",
    "        test[i] = atlas[i]\n",
    "        \n",
    "    else: \n",
    "        continue\n",
    "days = int(test.shape[0]/60)\n",
    "int((count-count%60)/60)\n",
    "\n",
    "hours =int((count-count%60)/60)\n",
    "\n",
    "actual_atlas = np.asarray(atlas)[0:hours*60]\n",
    "event_ind = np.split(actual_atlas, hours)\n",
    "start = np.amin(event_ind[0])\n",
    "end = np.amax(event_ind[0])\n",
    "start, end"
   ]
  },
  {
   "cell_type": "code",
   "execution_count": null,
   "id": "spread-integration",
   "metadata": {},
   "outputs": [],
   "source": [
    "plt.hist(np.asarray(events), 20)\n",
    "plt.xlim(0.2, 4)\n",
    "len(events)"
   ]
  },
  {
   "cell_type": "code",
   "execution_count": null,
   "id": "prompt-russia",
   "metadata": {},
   "outputs": [],
   "source": [
    "np.where(np.asarray(events) > 2*0.762)"
   ]
  },
  {
   "cell_type": "code",
   "execution_count": 221,
   "id": "exceptional-surrey",
   "metadata": {},
   "outputs": [],
   "source": [
    "cum = []"
   ]
  },
  {
   "cell_type": "code",
   "execution_count": 449,
   "id": "disciplinary-melissa",
   "metadata": {},
   "outputs": [],
   "source": [
    "def getRedNoise(stats_array):\n",
    "    ### PARAMETER SETUP ###\n",
    "\n",
    "    # Some parameters of getRedNoise are fed in from the SGP data, and thus are stored in \n",
    "    # stats_array.\n",
    "\n",
    "    #rad_anom_norm = 75.\n",
    "    rad_anom_norm = stats_array[0]\n",
    "\n",
    "    # they create an envelope of allowable sw radiation for the model.\n",
    "\n",
    "    sw_limit = stats_array[1] # highest allowable daily peak in radiation\n",
    "    sw_average = stats_array[2] # average daily peak in radiation\n",
    "    sw_min = stats_array[3]  # lowest allowable daily peak in radiation\n",
    "    \n",
    "    precip_rate = stats_array[4]\n",
    "    event_interval = stats_array[5]\n",
    "    max_precip_event = stats_array[6]\n",
    "\n",
    "    #temp_mean = stats_array[4]\n",
    "    #temp_anom_norm = stats_array[5]\n",
    "\n",
    "    #hum_mean = stats_array[6]\n",
    "    #hum_anom_mean = stats_array[7]\n",
    "\n",
    "    # Set to 0.6 in SLAM, these are correlation coefficients, and must be in (0,1). So for\n",
    "    # consistency:\n",
    "\n",
    "    r_temp = 0.6\n",
    "    r_hum = 0.6\n",
    "    r_rad = 0.7\n",
    "\n",
    "    day_length = 13 # IN HOURS\n",
    "\n",
    "    ### CYCLE INITIALIZATION ###\n",
    "\n",
    "    # The basic cycle is formed by taking a unit of free_time, then a unit of day_length,\n",
    "    # then another unit of free_time. This reconstructs the full 24 hour day, and will be \n",
    "    # a useful structure going forward.\n",
    "\n",
    "    free_time = (24 - day_length)*60/2. # In minutes!\n",
    "\n",
    "    free_time = int(free_time)\n",
    "\n",
    "    # Put the time of the day between, say, 9 and 5 and not from 0 to 8.\n",
    "\n",
    "    day_time_shift = np.linspace(free_time, day_length*60 + free_time - 1, day_length*60)\n",
    "    day_time = np.linspace(1, day_length*60, day_length*60)\n",
    "\n",
    "    # Create radiation profiles as sin waves\n",
    "\n",
    "    day_max = sw_limit * np.sin(np.pi * day_time * (day_length*60)**(-1))\n",
    "    day_avg = sw_average * np.sin(np.pi * day_time * (day_length*60)**(-1))\n",
    "    day_min = sw_min * np.sin(np.pi * day_time * (day_length*60)**(-1))\n",
    "\n",
    "    # make \"preday\" and \"postday,\" i.e., the time that does not include radiation\n",
    "\n",
    "    pre_day = np.linspace(0, free_time - 1, free_time)\n",
    "    post_day = np.linspace(day_length*60 + free_time, 24*60 - 1, free_time) # i.e., the time from sundown to the end of the day\n",
    "\n",
    "    # make a 'no radiation' array\n",
    "\n",
    "    no_rad = np.zeros(len(pre_day))\n",
    "\n",
    "    # make an array of times that includes the entire day, from midnight to midnight (the next day)\n",
    "\n",
    "    tot_day = np.hstack((pre_day, day_time_shift, post_day))\n",
    "    tot_day_sw_max = np.hstack((no_rad, day_max, no_rad))\n",
    "    tot_day_sw_avg = np.hstack((no_rad, day_avg, no_rad))\n",
    "    tot_day_sw_min = np.hstack((no_rad, day_min, no_rad))\n",
    "\n",
    "    # now we want to extend the above daily framework to the entire summer!\n",
    "\n",
    "    all_summer_time = 92*24*60 # 92 days in summer, 24 hours in a day, 60 mins in an hour\n",
    "\n",
    "    sw_max_sum = np.tile(tot_day_sw_max, 92) # make 92 days worth of the same radiation\n",
    "    sw_avg_sum = np.tile(tot_day_sw_avg, 92)\n",
    "    sw_min_sum = np.tile(tot_day_sw_min, 92)\n",
    "\n",
    "    ### CREATE RED NOISE FORCING ###\n",
    "\n",
    "    # characteristic time scale of correlation is ~6 hours\n",
    "\n",
    "    num_sixhr = 92 * 4 # number of days * number of 6 hour periods per day\n",
    "\n",
    "    day_vals = np.linspace(0, 1.5*np.pi, 4)\n",
    "    day_trend = np.sin(day_vals)\n",
    "\n",
    "    #temp_summer = np.tile(day_trend, 92) # makes an array with 92 copies of temp_day back to back\n",
    "    #hum_summer = np.tile(day_trend, 92) \n",
    "\n",
    "    rad_summer = np.tile(day_trend, 92)\n",
    "\n",
    "    i = 1\n",
    "    while i < num_sixhr:\n",
    "\n",
    "        #temp_rand = random.gauss(0,1) # sample a gaussian distribution with mean = 0 and std = 1\n",
    "        #hum_rand = random.gauss(0,1) # UNCORRELATED TEMP AND HUM \n",
    "\n",
    "        rad_rand = random.gauss(0,1)\n",
    "\n",
    "        # add day by day variability; correlate the data\n",
    "        # factor of (1-r^2)^0.5 makes the variance of the temp distribution the same as the\n",
    "        # random distribution's that we chose temp_rand from, i.e., is one\n",
    "\n",
    "        #temp_summer[i] = r_temp * temp_summer[i-1] + ((1 - r_temp**2)**(0.5)) * temp_rand\n",
    "        #hum_summer[i] = r_hum * hum_summer[i-1] + ((1 - r_hum**2)**(0.5)) * hum_rand\n",
    "\n",
    "        rad_summer[i] = r_rad * rad_summer[i-1] + ((1 - r_rad**2)**(0.5)) * rad_rand\n",
    "\n",
    "        i += 1\n",
    "\n",
    "    #temp_summer_min = getInterpolate(temp_mean + temp_summer * temp_anom_norm, all_summer_time)\n",
    "    #hum_summer_min = getInterpolate(hum_mean + hum_summer * hum_anom_norm, all_summer_time)\n",
    "\n",
    "    rad_summer_min = getInterpolate(rad_summer * rad_anom_norm, all_summer_time)\n",
    "\n",
    "    # THIS FINISHES TEMPERATURE AND HUMIDITY\n",
    "\n",
    "    ### PRECIP AND CLOUD FORCING ###\n",
    "\n",
    "    F_solar = np.zeros(all_summer_time)\n",
    "    precip = np.zeros(all_summer_time)\n",
    "\n",
    "    j = 0\n",
    "    while j < all_summer_time:\n",
    "\n",
    "        rad_val = sw_avg_sum[j] + rad_summer_min[j]\n",
    "        max_rad_val = sw_max_sum[j]\n",
    "        min_rad_val = sw_min_sum[j]\n",
    "\n",
    "        # cloud red noise has to be large for the cloud atlas to generate precip\n",
    "        if rad_summer_min[j] < -rad_anom_norm * 1.75: \n",
    "            DeltaT = np.random.exponential((event_interval)**(-1))\n",
    "            tmp_rainindex = j + int(DeltaT)\n",
    "\n",
    "            if tmp_rainindex <= all_summer_time - 1:\n",
    "                tmp_precip_val = np.random.gamma(precip_rate, scale=0.4)\n",
    "                \n",
    "                if tmp_precip_val > max_precip_event:\n",
    "                    precip[tmp_rainindex] = max_precip_event\n",
    "                    \n",
    "                else:\n",
    "                    precip[tmp_rainindex] = tmp_precip_val\n",
    "\n",
    "            else: \n",
    "                continue \n",
    "\n",
    "        F_solar[j] = rad_val\n",
    "\n",
    "        if F_solar[j] < 0:\n",
    "            F_solar[j] = 0\n",
    "\n",
    "        if F_solar[j] > max_rad_val:\n",
    "            F_solar[j] = max_rad_val\n",
    "\n",
    "        if F_solar[j] < min_rad_val and F_solar[j] > 0:\n",
    "            F_solar[j] = min_rad_val \n",
    "\n",
    "        j += 1\n",
    "        \n",
    "    return F_solar, precip"
   ]
  },
  {
   "cell_type": "code",
   "execution_count": 460,
   "id": "welsh-aside",
   "metadata": {},
   "outputs": [],
   "source": [
    "stats_array = [3.13691621e+02, 1.07923185e+03, 9.08223299e+02, 1.40227337e+02, 2.29757000e+02, 3.19076177e-02, 6.03987908e-02]\n",
    "\n",
    "solar, prec = test(stats_array)"
   ]
  },
  {
   "cell_type": "code",
   "execution_count": 461,
   "id": "furnished-intensity",
   "metadata": {},
   "outputs": [
    {
     "data": {
      "text/plain": [
       "529.4811313343378"
      ]
     },
     "execution_count": 461,
     "metadata": {},
     "output_type": "execute_result"
    }
   ],
   "source": [
    "cumulative = np.sum(prec)\n",
    "\n",
    "cumulative"
   ]
  },
  {
   "cell_type": "code",
   "execution_count": 462,
   "id": "psychological-signature",
   "metadata": {},
   "outputs": [
    {
     "data": {
      "text/plain": [
       "0.14889795594328958"
      ]
     },
     "execution_count": 462,
     "metadata": {},
     "output_type": "execute_result"
    }
   ],
   "source": [
    "where = np.where(prec > 0)\n",
    "preciptest = []\n",
    "\n",
    "for i in range(0, where[0].shape[0]):\n",
    "    index = where[0][i]\n",
    "    tmp_precipit = prec[index]\n",
    "    preciptest.append(tmp_precipit)\n",
    "    \n",
    "avg = np.mean(preciptest)\n",
    "\n",
    "avg"
   ]
  },
  {
   "cell_type": "code",
   "execution_count": 463,
   "id": "fewer-search",
   "metadata": {},
   "outputs": [
    {
     "data": {
      "text/plain": [
       "[<matplotlib.lines.Line2D at 0x2b9256fb9cd0>]"
      ]
     },
     "execution_count": 463,
     "metadata": {},
     "output_type": "execute_result"
    },
    {
     "data": {
      "image/png": "[encoded data removed]",
      "text/plain": [
       "<Figure size 1440x720 with 1 Axes>"
      ]
     },
     "metadata": {
      "needs_background": "light"
     },
     "output_type": "display_data"
    }
   ],
   "source": [
    "fig, ax = plt.subplots(1, figsize=(20,10))\n",
    "\n",
    "ax.plot(prec)"
   ]
  },
  {
   "cell_type": "code",
   "execution_count": 82,
   "id": "devoted-casting",
   "metadata": {},
   "outputs": [
    {
     "data": {
      "text/plain": [
       "[<matplotlib.lines.Line2D at 0x2b924e82feb0>]"
      ]
     },
     "execution_count": 82,
     "metadata": {},
     "output_type": "execute_result"
    },
    {
     "data": {
      "image/png": "[encoded data removed]",
      "text/plain": [
       "<Figure size 1440x2160 with 3 Axes>"
      ]
     },
     "metadata": {
      "needs_background": "light"
     },
     "output_type": "display_data"
    }
   ],
   "source": [
    "fig, ax = plt.subplots(3, figsize=(20,30))\n",
    "\n",
    "j = 89\n",
    "ax[0].plot(prec[1440*j:1440*(j+1)])\n",
    "ax[1].plot(prec[1440*(j+1):1440*(j+2)])\n",
    "ax[2].plot(prec[(j+2)*1440:(j+3)*1440])"
   ]
  },
  {
   "cell_type": "code",
   "execution_count": 7,
   "id": "fifty-synthesis",
   "metadata": {},
   "outputs": [
    {
     "data": {
      "text/plain": [
       "(array([29., 22., 12., 12.,  6., 10.,  2.,  4.,  2.,  1.]),\n",
       " array([0.02006897, 0.57388107, 1.12769318, 1.68150528, 2.23531739,\n",
       "        2.78912949, 3.3429416 , 3.8967537 , 4.45056581, 5.00437791,\n",
       "        5.55819001]),\n",
       " <BarContainer object of 10 artists>)"
      ]
     },
     "execution_count": 7,
     "metadata": {},
     "output_type": "execute_result"
    },
    {
     "data": {
      "image/png": "[encoded data removed]",
      "text/plain": [
       "<Figure size 432x288 with 1 Axes>"
      ]
     },
     "metadata": {
      "needs_background": "light"
     },
     "output_type": "display_data"
    }
   ],
   "source": [
    "val = np.random.exponential(1.5, size=100)\n",
    "\n",
    "plt.hist(val)"
   ]
  },
  {
   "cell_type": "code",
   "execution_count": null,
   "id": "skilled-technical",
   "metadata": {},
   "outputs": [],
   "source": [
    "def test1(precip_file_array, precip_data_var):\n",
    "    \n",
    "    N_files = len(precip_file_array) \n",
    "    counter_array = []\n",
    "    precip_allnonzero = []\n",
    "    \n",
    "    for i in range(0, N_files):\n",
    "        tmp_dataset = xr.open_dataset(precip_file_array[i]) # Open ith summer's dataset\n",
    "        \n",
    "        tmp_precip = tmp_dataset[precip_data_var].values # open the \"data_var\" values for all summers\n",
    "        \n",
    "        tmp_precip_fixed = getRemoveDefects(tmp_precip, precip_data_var) # fix values of below zero\n",
    "        \n",
    "        nonzero_indices = np.where(tmp_precip_fixed > 0)[0]\n",
    "        zero_indices = np.where(tmp_precip_fixed == 0)[0]\n",
    "        \n",
    "        for k in range(0, len(nonzero_indices)):\n",
    "            index = nonzero_indices[k]\n",
    "            tmp_precip = tmp_precip_fixed[index]\n",
    "            precip_allnonzero.append(tmp_precip)\n",
    "            \n",
    "        for j in range(1, len(zero_indices)):\n",
    "            \n",
    "            counter = 0\n",
    "            \n",
    "            tmp_index_j = zero_indices[j]\n",
    "            tmp_index_j1 = zero_indices[j-1]\n",
    "            \n",
    "            diff = tmp_index_j - tmp_index_j1\n",
    "            \n",
    "            if diff == 1:\n",
    "                counter += 1\n",
    "            \n",
    "            if diff != 1:\n",
    "                counter_array.append(counter)\n",
    "                counter = 0\n",
    "        \n",
    "    avg_precip_rate = np.mean(precip_allnonzero)\n",
    "    \n",
    "        \n",
    "    \n",
    "    return avg_precip_rate, avg_event_length"
   ]
  },
  {
   "cell_type": "code",
   "execution_count": 9,
   "id": "specific-bishop",
   "metadata": {},
   "outputs": [],
   "source": [
    "import xarray as xr\n",
    "from getStats import getRemoveDefects\n",
    "import glob\n",
    "\n",
    "PATH=\"/data/keeling/a/adammb4/SGP_proj_2021/DATA/\"\n",
    "precip_file_array=glob.glob(PATH+\"SGP_precip*\")\n",
    "precip_data_var = \"precip\"\n",
    "\n",
    "N_files = len(precip_file_array) \n",
    "counter_array = []\n",
    "precip_allnonzero = []\n",
    "counter = 0\n",
    "\n",
    "for i in range(0, N_files):\n",
    "\n",
    "    tmp_dataset = xr.open_dataset(precip_file_array[i]) # Open ith summer's dataset\n",
    "\n",
    "    tmp_precip = tmp_dataset[precip_data_var].values # open the \"data_var\" values for all summers\n",
    "\n",
    "    tmp_precip_fixed = getRemoveDefects(tmp_precip, precip_data_var) # fix values of below zero\n",
    "\n",
    "    nonzero_indices = np.where(tmp_precip_fixed > 0)[0]\n",
    "    zero_indices = np.where(tmp_precip_fixed == 0)[0]\n",
    "\n",
    "    for k in range(0, len(nonzero_indices)):\n",
    "        index = nonzero_indices[k]\n",
    "        tmp_precip_val = tmp_precip_fixed[index]\n",
    "        precip_allnonzero.append(tmp_precip_val)\n",
    "\n",
    "    for j in range(0, len(zero_indices)):\n",
    "\n",
    "        tmp_index_j = zero_indices[j]\n",
    "        tmp_index_j1 = zero_indices[j-1]\n",
    "\n",
    "        diff = tmp_index_j - tmp_index_j1\n",
    "\n",
    "        if diff == 1:\n",
    "            counter += 1\n",
    "\n",
    "        if diff != 1:\n",
    "            counter_array.append(counter)\n",
    "            counter = 0\n",
    "            \n",
    "interval_counters = np.where(np.asarray(counter_array) > 60)[0]\n",
    "N_spaces = interval_counters.shape[0]\n",
    "intervals = []\n",
    "\n",
    "for i in range(0, N_spaces):\n",
    "    index = interval_counters[i]\n",
    "    tmp_counter = counter_array[index]\n",
    "    intervals.append(tmp_counter)\n",
    "    \n",
    "avg_interval = np.mean(intervals)        \n",
    "\n",
    "avg_precip_rate = np.mean(precip_allnonzero)\n",
    "avg_cum_precip = np.sum(precip_allnonzero)/5.\n",
    "precip_event_max = np.amax(precip_allnonzero)"
   ]
  },
  {
   "cell_type": "code",
   "execution_count": 10,
   "id": "prerequisite-daniel",
   "metadata": {},
   "outputs": [
    {
     "data": {
      "text/plain": [
       "(0.3754199349412731, 229.75700018405914, 1907, 2.819000005722046, 3166)"
      ]
     },
     "execution_count": 10,
     "metadata": {},
     "output_type": "execute_result"
    }
   ],
   "source": [
    "avg_precip_rate, avg_cum_precip, len(counter_array), precip_event_max, int(avg_interval)"
   ]
  },
  {
   "cell_type": "code",
   "execution_count": 7,
   "id": "smooth-vaccine",
   "metadata": {},
   "outputs": [
    {
     "data": {
      "text/plain": [
       "(3166.5686274509803, 204)"
      ]
     },
     "execution_count": 7,
     "metadata": {},
     "output_type": "execute_result"
    }
   ],
   "source": [
    "arr = np.where(np.asarray(counter_array) > 60)[0]\n",
    "asdf = arr.shape[0]\n",
    "counts = []\n",
    "\n",
    "for i in range(0, asdf):\n",
    "    index = arr[i]\n",
    "    tmp_counter = counter_array[index]\n",
    "    counts.append(tmp_counter)\n",
    "    \n",
    "avg = np.mean(counts)\n",
    "\n",
    "avg, asdf"
   ]
  },
  {
   "cell_type": "code",
   "execution_count": 8,
   "id": "second-warehouse",
   "metadata": {},
   "outputs": [
    {
     "data": {
      "text/plain": [
       "(0.0, 100.0)"
      ]
     },
     "execution_count": 8,
     "metadata": {},
     "output_type": "execute_result"
    },
    {
     "data": {
      "image/png": "[encoded data removed]",
      "text/plain": [
       "<Figure size 432x288 with 1 Axes>"
      ]
     },
     "metadata": {
      "needs_background": "light"
     },
     "output_type": "display_data"
    }
   ],
   "source": [
    "plt.plot(counter_array,'b.')\n",
    "plt.ylim(0,100)"
   ]
  },
  {
   "cell_type": "code",
   "execution_count": null,
   "id": "floppy-tribe",
   "metadata": {},
   "outputs": [],
   "source": []
  }
 ],
 "metadata": {
  "kernelspec": {
   "display_name": "Python 3",
   "language": "python",
   "name": "python3"
  },
  "language_info": {
   "codemirror_mode": {
    "name": "ipython",
    "version": 3
   },
   "file_extension": ".py",
   "mimetype": "text/x-python",
   "name": "python",
   "nbconvert_exporter": "python",
   "pygments_lexer": "ipython3",
   "version": "3.8.5"
  }
 },
 "nbformat": 4,
 "nbformat_minor": 5
}

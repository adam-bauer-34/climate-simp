{
 "cells": [
  {
   "cell_type": "markdown",
   "id": "fuzzy-madness",
   "metadata": {},
   "source": [
    "# OLLA Pseudo-code\n",
    "\n",
    "Here is the way I want to structure OLLA. "
   ]
  },
  {
   "cell_type": "code",
   "execution_count": 1,
   "id": "french-watch",
   "metadata": {},
   "outputs": [],
   "source": [
    "# Import obligatory packages.\n",
    "\n",
    "import numpy as np\n",
    "import matplotlib.pyplot as plt \n",
    "import xarray as xr\n",
    "import glob\n",
    "\n",
    "from getStats import getStats\n",
    "from getForcingFunctions import getForcingNetCDF\n",
    "from getOLLA import getOLLA"
   ]
  },
  {
   "cell_type": "code",
   "execution_count": 2,
   "id": "under-instrument",
   "metadata": {},
   "outputs": [],
   "source": [
    "# Import files into current terminal.\n",
    "\n",
    "PATH=\"/data/keeling/a/adammb4/SGP_proj_2021/DATA/\"\n",
    "precip_data=glob.glob(PATH+\"SGP_precip*\")\n",
    "rad_data = glob.glob(PATH+\"SGP_Best*\")\n",
    "\n",
    "#hum_data = glob.glob(PATH+\"entirely different.nc\")\n",
    "#temp_data = glob.glob(PATH+\"sheik.nc\")\n",
    "\n",
    "#ds1 = xr.open_dataset(rad_data[0])\n",
    "#ds2 = xr.open_dataset(precip_data[0])\n",
    "\n",
    "#rad = ds1[\"BestEstimate_down_short_hemisp\"].values\n",
    "#prec = ds2[\"precip\"].values\n",
    "\n",
    "#fig, ax = plt.subplots(1, figsize=(14,10))\n",
    "\n",
    "#ax.plot(rad)\n",
    "#ax.set_ylim((-100,100))"
   ]
  },
  {
   "cell_type": "code",
   "execution_count": 3,
   "id": "facial-channel",
   "metadata": {},
   "outputs": [
    {
     "data": {
      "text/plain": [
       "array([3.46315521e+02, 1.29007507e+03, 4.18045471e+02, 1.48781738e+02,\n",
       "       2.29756989e+02, 3.19336466e-02, 2.79184049e-01])"
      ]
     },
     "execution_count": 3,
     "metadata": {},
     "output_type": "execute_result"
    }
   ],
   "source": [
    "# Send files to statistics program to generate relevant statistical quantities.\n",
    "\n",
    "# Data variable names are \"precip\" and \"BestEstimate_down_short_hemisp\" for precipitation and radiation, respectively.\n",
    "# This has been updated IN getStats.py. \n",
    "\n",
    "threshold = 0\n",
    "\n",
    "stats_array = getStats(rad_data, precip_data, threshold)\n",
    "\n",
    "stats_array"
   ]
  },
  {
   "cell_type": "code",
   "execution_count": 4,
   "id": "democratic-single",
   "metadata": {},
   "outputs": [
    {
     "name": "stdout",
     "output_type": "stream",
     "text": [
      "211.6517174746768\n"
     ]
    }
   ],
   "source": [
    "## Pass resulting statistical quantities to a program that returns a red forcing .nc that is calibrated to said \n",
    "# statistical quantities; also pass the filename for ease of reference in next step\n",
    "\n",
    "tot_years = 2\n",
    "filename = \"SGP_synth_20sum\"\n",
    "\n",
    "getForcingNetCDF(tot_years, stats_array, PATH+filename+\".nc\")\n",
    "\n",
    "# THIS IS SAVED TO PATH ABOVE NOT TO LOCAL DIRECTORY"
   ]
  },
  {
   "cell_type": "code",
   "execution_count": null,
   "id": "fitting-reference",
   "metadata": {},
   "outputs": [],
   "source": [
    "# Import .nc as forcing\n",
    "\n",
    "forcing = glob.glob(PATH+filename+\".nc\")\n",
    "\n",
    "#ds = xr.open_dataset(forcing[0])\n",
    "#forcing4 = ds[\"F_solar\"].values\n",
    "#plt.plot(forcing4[:,0])\n",
    "#plt.xlim(0,1440*2)"
   ]
  },
  {
   "cell_type": "code",
   "execution_count": null,
   "id": "optimum-gregory",
   "metadata": {},
   "outputs": [],
   "source": [
    "# Send forcing information to OLLA\n",
    "\n",
    "# Might need for loop situation here, but basic idea is \n",
    "\n",
    "temp_array, mois_array = getOLLA(forcing)"
   ]
  },
  {
   "cell_type": "code",
   "execution_count": null,
   "id": "cognitive-injury",
   "metadata": {},
   "outputs": [],
   "source": [
    "# Print & plot the results from OLLA\n",
    "\n",
    "# Generic plotting business\n",
    "\n",
    "fig, ax = plt.subplots(2, figsize=(14,10))\n",
    "\n",
    "ax[0].plot(temp_array[:,0])\n",
    "ax[0].set_ylim((0, 370))\n",
    "ax[0].set_ylabel(r\"Atmospheric Temperature (K)\")\n",
    "ax[0].set_xlabel(r\"Minute\")\n",
    "\n",
    "ax[1].plot(mois_array[:,0])\n",
    "ax[1].set_ylabel(r\"Moisture content\")\n",
    "ax[1].set_xlabel(r\"Minute\")\n",
    "#ax[1].set_ylim((0,10**(-4)))"
   ]
  },
  {
   "cell_type": "code",
   "execution_count": null,
   "id": "greenhouse-yellow",
   "metadata": {},
   "outputs": [],
   "source": []
  }
 ],
 "metadata": {
  "kernelspec": {
   "display_name": "Python 3",
   "language": "python",
   "name": "python3"
  },
  "language_info": {
   "codemirror_mode": {
    "name": "ipython",
    "version": 3
   },
   "file_extension": ".py",
   "mimetype": "text/x-python",
   "name": "python",
   "nbconvert_exporter": "python",
   "pygments_lexer": "ipython3",
   "version": "3.8.5"
  }
 },
 "nbformat": 4,
 "nbformat_minor": 5
}

{
 "cells": [
  {
   "cell_type": "markdown",
   "id": "sudden-button",
   "metadata": {},
   "source": [
    "# Data Analysis for Observed Data and Synthetic Data\n",
    "\n",
    "This program serves to take some statistics of the observed data and the synthetic data created by getForcingFunctions, mainly for comparison.\n",
    "\n",
    "### Observational Data Analysis"
   ]
  },
  {
   "cell_type": "code",
   "execution_count": 18,
   "id": "authentic-venture",
   "metadata": {},
   "outputs": [],
   "source": [
    "import numpy as np \n",
    "import matplotlib.pyplot as plt \n",
    "import xarray as xr \n",
    "import glob \n",
    "import scipy.stats as sts\n",
    "\n",
    "from getStats import getRemoveDefects"
   ]
  },
  {
   "cell_type": "code",
   "execution_count": 35,
   "id": "hidden-liability",
   "metadata": {},
   "outputs": [],
   "source": [
    "def getDailyMeanMaxSkew(filelist):\n",
    "    \n",
    "    N_files = len(filelist)\n",
    "    \n",
    "    for i in range(0, N_files):\n",
    "        \n",
    "        print(i)\n",
    "        \n",
    "        tmp_ds = xr.open_dataset(filelist[i])\n",
    "        \n",
    "        tmp_rad = tmp_ds[\"BestEstimate_down_short_hemisp\"].values\n",
    "        \n",
    "        tmp_rad_daysplit = np.split(tmp_rad, 92)\n",
    "        \n",
    "        tmp_rad_daysplit_clean = []\n",
    "        tmp_mean_array = []\n",
    "        tmp_max_array = []\n",
    "        tmp_skew_array = []\n",
    "        \n",
    "        N_days = len(tmp_rad_daysplit)\n",
    "        \n",
    "        for i in range(0, N_days):\n",
    "            tmp_rad_daysplit_clean.append(getRemoveDefects(tmp_rad_daysplit[i]))\n",
    "            \n",
    "        for j in range(0, N_days):\n",
    "            #print(tmp_rad_daysplit_clean[j])\n",
    "            tmp_mean_array.append(np.mean(tmp_rad_daysplit_clean[j]))\n",
    "            tmp_max_array.append(np.amax(tmp_rad_daysplit_clean[j]))\n",
    "            tmp_skew_array.append(sts.skew(tmp_rad_daysplit_clean[j]))\n",
    "        \n",
    "    return tmp_mean_array, tmp_max_array, tmp_skew_array"
   ]
  },
  {
   "cell_type": "code",
   "execution_count": 36,
   "id": "fancy-reputation",
   "metadata": {},
   "outputs": [
    {
     "name": "stdout",
     "output_type": "stream",
     "text": [
      "0\n",
      "1\n"
     ]
    },
    {
     "ename": "ValueError",
     "evalue": "zero-size array to reduction operation maximum which has no identity",
     "output_type": "error",
     "traceback": [
      "\u001b[0;31m---------------------------------------------------------------------------\u001b[0m",
      "\u001b[0;31mValueError\u001b[0m                                Traceback (most recent call last)",
      "\u001b[0;32m<ipython-input-36-0236f6ec1edb>\u001b[0m in \u001b[0;36m<module>\u001b[0;34m\u001b[0m\n\u001b[1;32m      2\u001b[0m \u001b[0mrad_data_filenames\u001b[0m \u001b[0;34m=\u001b[0m \u001b[0mglob\u001b[0m\u001b[0;34m.\u001b[0m\u001b[0mglob\u001b[0m\u001b[0;34m(\u001b[0m\u001b[0mPATH\u001b[0m\u001b[0;34m+\u001b[0m\u001b[0;34m\"SGP_Best*\"\u001b[0m\u001b[0;34m)\u001b[0m\u001b[0;34m\u001b[0m\u001b[0;34m\u001b[0m\u001b[0m\n\u001b[1;32m      3\u001b[0m \u001b[0;34m\u001b[0m\u001b[0m\n\u001b[0;32m----> 4\u001b[0;31m \u001b[0mmean\u001b[0m\u001b[0;34m,\u001b[0m \u001b[0mmaxm\u001b[0m\u001b[0;34m,\u001b[0m \u001b[0mskew\u001b[0m \u001b[0;34m=\u001b[0m \u001b[0mgetDailyMeanMaxSkew\u001b[0m\u001b[0;34m(\u001b[0m\u001b[0mrad_data_filenames\u001b[0m\u001b[0;34m)\u001b[0m\u001b[0;34m\u001b[0m\u001b[0;34m\u001b[0m\u001b[0m\n\u001b[0m",
      "\u001b[0;32m<ipython-input-35-be9c7abd43d8>\u001b[0m in \u001b[0;36mgetDailyMeanMaxSkew\u001b[0;34m(filelist)\u001b[0m\n\u001b[1;32m     26\u001b[0m             \u001b[0;31m#print(tmp_rad_daysplit_clean[j])\u001b[0m\u001b[0;34m\u001b[0m\u001b[0;34m\u001b[0m\u001b[0;34m\u001b[0m\u001b[0m\n\u001b[1;32m     27\u001b[0m             \u001b[0mtmp_mean_array\u001b[0m\u001b[0;34m.\u001b[0m\u001b[0mappend\u001b[0m\u001b[0;34m(\u001b[0m\u001b[0mnp\u001b[0m\u001b[0;34m.\u001b[0m\u001b[0mmean\u001b[0m\u001b[0;34m(\u001b[0m\u001b[0mtmp_rad_daysplit_clean\u001b[0m\u001b[0;34m[\u001b[0m\u001b[0mj\u001b[0m\u001b[0;34m]\u001b[0m\u001b[0;34m)\u001b[0m\u001b[0;34m)\u001b[0m\u001b[0;34m\u001b[0m\u001b[0;34m\u001b[0m\u001b[0m\n\u001b[0;32m---> 28\u001b[0;31m             \u001b[0mtmp_max_array\u001b[0m\u001b[0;34m.\u001b[0m\u001b[0mappend\u001b[0m\u001b[0;34m(\u001b[0m\u001b[0mnp\u001b[0m\u001b[0;34m.\u001b[0m\u001b[0mamax\u001b[0m\u001b[0;34m(\u001b[0m\u001b[0mtmp_rad_daysplit_clean\u001b[0m\u001b[0;34m[\u001b[0m\u001b[0mj\u001b[0m\u001b[0;34m]\u001b[0m\u001b[0;34m)\u001b[0m\u001b[0;34m)\u001b[0m\u001b[0;34m\u001b[0m\u001b[0;34m\u001b[0m\u001b[0m\n\u001b[0m\u001b[1;32m     29\u001b[0m             \u001b[0mtmp_skew_array\u001b[0m\u001b[0;34m.\u001b[0m\u001b[0mappend\u001b[0m\u001b[0;34m(\u001b[0m\u001b[0msts\u001b[0m\u001b[0;34m.\u001b[0m\u001b[0mskew\u001b[0m\u001b[0;34m(\u001b[0m\u001b[0mtmp_rad_daysplit_clean\u001b[0m\u001b[0;34m[\u001b[0m\u001b[0mj\u001b[0m\u001b[0;34m]\u001b[0m\u001b[0;34m)\u001b[0m\u001b[0;34m)\u001b[0m\u001b[0;34m\u001b[0m\u001b[0;34m\u001b[0m\u001b[0m\n\u001b[1;32m     30\u001b[0m \u001b[0;34m\u001b[0m\u001b[0m\n",
      "\u001b[0;32m<__array_function__ internals>\u001b[0m in \u001b[0;36mamax\u001b[0;34m(*args, **kwargs)\u001b[0m\n",
      "\u001b[0;32m~/miniconda3/lib/python3.8/site-packages/numpy/core/fromnumeric.py\u001b[0m in \u001b[0;36mamax\u001b[0;34m(a, axis, out, keepdims, initial, where)\u001b[0m\n\u001b[1;32m   2703\u001b[0m     \u001b[0;36m5\u001b[0m\u001b[0;34m\u001b[0m\u001b[0;34m\u001b[0m\u001b[0m\n\u001b[1;32m   2704\u001b[0m     \"\"\"\n\u001b[0;32m-> 2705\u001b[0;31m     return _wrapreduction(a, np.maximum, 'max', axis, None, out,\n\u001b[0m\u001b[1;32m   2706\u001b[0m                           keepdims=keepdims, initial=initial, where=where)\n\u001b[1;32m   2707\u001b[0m \u001b[0;34m\u001b[0m\u001b[0m\n",
      "\u001b[0;32m~/miniconda3/lib/python3.8/site-packages/numpy/core/fromnumeric.py\u001b[0m in \u001b[0;36m_wrapreduction\u001b[0;34m(obj, ufunc, method, axis, dtype, out, **kwargs)\u001b[0m\n\u001b[1;32m     85\u001b[0m                 \u001b[0;32mreturn\u001b[0m \u001b[0mreduction\u001b[0m\u001b[0;34m(\u001b[0m\u001b[0maxis\u001b[0m\u001b[0;34m=\u001b[0m\u001b[0maxis\u001b[0m\u001b[0;34m,\u001b[0m \u001b[0mout\u001b[0m\u001b[0;34m=\u001b[0m\u001b[0mout\u001b[0m\u001b[0;34m,\u001b[0m \u001b[0;34m**\u001b[0m\u001b[0mpasskwargs\u001b[0m\u001b[0;34m)\u001b[0m\u001b[0;34m\u001b[0m\u001b[0;34m\u001b[0m\u001b[0m\n\u001b[1;32m     86\u001b[0m \u001b[0;34m\u001b[0m\u001b[0m\n\u001b[0;32m---> 87\u001b[0;31m     \u001b[0;32mreturn\u001b[0m \u001b[0mufunc\u001b[0m\u001b[0;34m.\u001b[0m\u001b[0mreduce\u001b[0m\u001b[0;34m(\u001b[0m\u001b[0mobj\u001b[0m\u001b[0;34m,\u001b[0m \u001b[0maxis\u001b[0m\u001b[0;34m,\u001b[0m \u001b[0mdtype\u001b[0m\u001b[0;34m,\u001b[0m \u001b[0mout\u001b[0m\u001b[0;34m,\u001b[0m \u001b[0;34m**\u001b[0m\u001b[0mpasskwargs\u001b[0m\u001b[0;34m)\u001b[0m\u001b[0;34m\u001b[0m\u001b[0;34m\u001b[0m\u001b[0m\n\u001b[0m\u001b[1;32m     88\u001b[0m \u001b[0;34m\u001b[0m\u001b[0m\n\u001b[1;32m     89\u001b[0m \u001b[0;34m\u001b[0m\u001b[0m\n",
      "\u001b[0;31mValueError\u001b[0m: zero-size array to reduction operation maximum which has no identity"
     ]
    }
   ],
   "source": [
    "PATH = \"/data/keeling/a/adammb4/SGP_proj_2021/DATA/\"\n",
    "rad_data_filenames = glob.glob(PATH+\"SGP_Best*\")\n",
    "\n",
    "mean, maxm, skew = getDailyMeanMaxSkew(rad_data_filenames)"
   ]
  },
  {
   "cell_type": "code",
   "execution_count": 20,
   "id": "printable-extreme",
   "metadata": {},
   "outputs": [],
   "source": [
    "ds = xr.open_dataset(rad_data_filenames[0])\n",
    "rad = ds[\"BestEstimate_down_short_hemisp\"].values\n",
    "rad_daysplit = np.split(rad, 92)\n",
    "\n",
    "rad_daysplit_clean = []\n",
    "\n",
    "for i in range (0,len(rad_daysplit)):\n",
    "    tmp_rad = rad_daysplit[i]\n",
    "    tmp_clean = getRemoveDefects(tmp_rad)\n",
    "    rad_daysplit_clean.append(tmp_clean)"
   ]
  },
  {
   "cell_type": "code",
   "execution_count": 31,
   "id": "mobile-sharing",
   "metadata": {},
   "outputs": [
    {
     "data": {
      "text/plain": [
       "92"
      ]
     },
     "execution_count": 31,
     "metadata": {},
     "output_type": "execute_result"
    }
   ],
   "source": [
    "daily_mean_array = []\n",
    "daily_max_array = []\n",
    "daily_min_array = []\n",
    "daily_skew_array = []\n",
    "\n",
    "for i in range(0, len(rad_daysplit_clean)):\n",
    "    tmp_mean = np.mean(rad_daysplit_clean[i])\n",
    "    tmp_max = np.amax(rad_daysplit_clean[i])\n",
    "    tmp_min = np.amin(rad_daysplit_clean[i])\n",
    "    tmp_skew = sts.skew(rad_daysplit_clean[i])\n",
    "    daily_mean_array.append(tmp_mean)\n",
    "    daily_max_array.append(tmp_max)\n",
    "    daily_min_array.append(tmp_min)\n",
    "    daily_skew_array.append(tmp_skew)\n",
    "\n",
    "max_peak = np.amax(daily_max_array)\n",
    "min_peak = np.amin(daily_max_array)\n",
    "\n",
    "len(daily_mean_array)"
   ]
  },
  {
   "cell_type": "code",
   "execution_count": 17,
   "id": "affecting-setup",
   "metadata": {},
   "outputs": [
    {
     "data": {
      "text/plain": [
       "(array([ 1.,  0.,  1.,  3., 13., 31., 21., 13.,  5.,  4.]),\n",
       " array([ 698.0071 ,  755.78656,  813.56604,  871.3455 ,  929.125  ,\n",
       "         986.9045 , 1044.684  , 1102.4634 , 1160.2429 , 1218.0225 ,\n",
       "        1275.8019 ], dtype=float32),\n",
       " <BarContainer object of 10 artists>)"
      ]
     },
     "execution_count": 17,
     "metadata": {},
     "output_type": "execute_result"
    },
    {
     "data": {
      "image/png": "[encoded data removed]",
      "text/plain": [
       "<Figure size 432x288 with 1 Axes>"
      ]
     },
     "metadata": {
      "needs_background": "light"
     },
     "output_type": "display_data"
    }
   ],
   "source": [
    "plt.hist(daily_mean_array)"
   ]
  },
  {
   "cell_type": "code",
   "execution_count": null,
   "id": "backed-recorder",
   "metadata": {},
   "outputs": [],
   "source": []
  }
 ],
 "metadata": {
  "kernelspec": {
   "display_name": "Python 3",
   "language": "python",
   "name": "python3"
  },
  "language_info": {
   "codemirror_mode": {
    "name": "ipython",
    "version": 3
   },
   "file_extension": ".py",
   "mimetype": "text/x-python",
   "name": "python",
   "nbconvert_exporter": "python",
   "pygments_lexer": "ipython3",
   "version": "3.8.5"
  }
 },
 "nbformat": 4,
 "nbformat_minor": 5
}

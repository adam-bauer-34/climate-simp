{
 "cells": [
  {
   "cell_type": "markdown",
   "id": "sudden-button",
   "metadata": {},
   "source": [
    "# Data Analysis for Observed Data and Synthetic Data\n",
    "\n",
    "This program serves to take some statistics of the observed data and the synthetic data created by getForcingFunctions, mainly for comparison.\n",
    "\n",
    "### Observational Data Analysis"
   ]
  },
  {
   "cell_type": "code",
   "execution_count": 9,
   "id": "authentic-venture",
   "metadata": {},
   "outputs": [],
   "source": [
    "import numpy as np \n",
    "import matplotlib.pyplot as plt \n",
    "import xarray as xr \n",
    "import glob \n",
    "\n",
    "from getStats import getRemoveDefects"
   ]
  },
  {
   "cell_type": "code",
   "execution_count": 10,
   "id": "fancy-reputation",
   "metadata": {},
   "outputs": [],
   "source": [
    "PATH = \"/data/keeling/a/adammb4/SGP_proj_2021/DATA/\"\n",
    "rad_data_filenames = glob.glob(PATH+\"SGP_Best*\")"
   ]
  },
  {
   "cell_type": "code",
   "execution_count": 16,
   "id": "printable-extreme",
   "metadata": {},
   "outputs": [],
   "source": [
    "ds = xr.open_dataset(rad_data_filenames[0])\n",
    "rad = ds[\"BestEstimate_down_short_hemisp\"].values\n",
    "rad_daysplit = np.split(rad, 92)\n",
    "\n",
    "rad_daysplit_clean = []\n",
    "\n",
    "for i in range (0,len(rad_daysplit)):\n",
    "    tmp_rad = rad_daysplit[i]\n",
    "    tmp_clean = getRemoveDefects(tmp_rad)\n",
    "    rad_daysplit_clean.append(tmp_clean)"
   ]
  },
  {
   "cell_type": "code",
   "execution_count": 21,
   "id": "moderate-demand",
   "metadata": {},
   "outputs": [
    {
     "data": {
      "text/plain": [
       "961"
      ]
     },
     "execution_count": 21,
     "metadata": {},
     "output_type": "execute_result"
    }
   ],
   "source": [
    "len(rad_daysplit_clean[2])"
   ]
  },
  {
   "cell_type": "code",
   "execution_count": null,
   "id": "mobile-sharing",
   "metadata": {},
   "outputs": [],
   "source": []
  }
 ],
 "metadata": {
  "kernelspec": {
   "display_name": "Python 3",
   "language": "python",
   "name": "python3"
  },
  "language_info": {
   "codemirror_mode": {
    "name": "ipython",
    "version": 3
   },
   "file_extension": ".py",
   "mimetype": "text/x-python",
   "name": "python",
   "nbconvert_exporter": "python",
   "pygments_lexer": "ipython3",
   "version": "3.8.5"
  }
 },
 "nbformat": 4,
 "nbformat_minor": 5
}

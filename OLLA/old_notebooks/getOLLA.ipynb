{
 "cells": [
  {
   "cell_type": "markdown",
   "id": "suffering-deployment",
   "metadata": {},
   "source": [
    "# Master OLLA Integrator\n",
    "\n",
    "This file has the integrator and actual OLLA processing code. OLLA takes a .nc file of forcing and outputs the temperature time series. "
   ]
  },
  {
   "cell_type": "code",
   "execution_count": 1,
   "id": "critical-start",
   "metadata": {},
   "outputs": [],
   "source": [
    "import numpy as np \n",
    "import xarray as xr "
   ]
  },
  {
   "cell_type": "code",
   "execution_count": 2,
   "id": "mounted-stranger",
   "metadata": {},
   "outputs": [],
   "source": [
    "def getOLLA(filename):\n",
    "    \n",
    "    forcing = xr.open_dataset(filename)\n",
    "    \n",
    "    F_solar = forcing[\"F_solar\"].values\n",
    "    t_upper = forcing[\"t_upper\"].values\n",
    "    q_upper = forcing[\"q_upper\"].values\n",
    "    percip = forcing[\"precip\"].values\n",
    "    cf = forcing[\"c_f\"].values\n",
    "    \n",
    "    ### NEED A FAT UNITS CHECK ON THE ABOVE DATA TO MAKE SURE WE'RE NOT MESSING UP UNITS ###\n",
    "    \n",
    "    temp_series, mois_seris = getIntegration(F_solar, precip)\n",
    "    \n",
    "    return temp_series, mois_series"
   ]
  },
  {
   "cell_type": "code",
   "execution_count": null,
   "id": "advanced-faculty",
   "metadata": {},
   "outputs": [],
   "source": [
    "def getIntegration(F_solar, precip):\n",
    "    \n",
    "    N_summers = len(F_solar.shape[0])\n",
    "    N_minutes = len(F_solar.shape[1])\n",
    "    \n",
    "    temp_series = np.zeros((N_summers, N_minutes))\n",
    "    mois_series = np.zeros((N_summers, N_minutes))\n",
    "    \n",
    "    for i in range(1, N_summers): # loop through summers\n",
    "        \n",
    "        for j in range(0, N_minutes): # loop through minutes\n",
    "            \n",
    "            temp_series[i,j] = temp_series[i,j-1] + getTempFlux(temp_series[i,j-1], mois_series[i,j-1], F_solar[i,j-1])\n",
    "            mois_series[i,j] = mois_series[i,j-1] + getMoisFlux(temp_series[i,j-1], mois_series[i,j-1], precip[i,j-1])\n",
    "    \n",
    "    return temp_series, mois_series"
   ]
  },
  {
   "cell_type": "code",
   "execution_count": 8,
   "id": "biological-details",
   "metadata": {},
   "outputs": [],
   "source": [
    "def getTempFlux(T, m, F, q):\n",
    "    \n",
    "    L = 2.5 * 10**6 # latent heat of evaporation\n",
    "    T_0 = 273.15 # freezing temperature\n",
    "    R_w = 461.25 # specific gas constant for water \n",
    "    e_s_0 = 6.11 # hPa; constant in front of clausius clapeyron relation\n",
    "    P_surf = 1013.25 #hPa; surface pressure \n",
    "    C = 4180. # heat capacity of water\n",
    "    q = 0.5\n",
    "    \n",
    "    alpha = 10. # radiative feedback\n",
    "    v = 10**(-2) # density of air divided by surface resistance\n",
    "    \n",
    "    exp_arg = L * R_w**(-1) * (T_0**(-1) - T**(-1))\n",
    "    sat_humidity = 0.622 * e_s_0 * P_surf**(-1) * np.exp(exp_arg)\n",
    "    \n",
    "    temp_flux = F - alpha(T - T_0) - L * v * m * (sat_humidity - q)\n",
    "    \n",
    "    return C**(-1) * temp_flux"
   ]
  },
  {
   "cell_type": "code",
   "execution_count": 7,
   "id": "mysterious-sense",
   "metadata": {},
   "outputs": [],
   "source": [
    "def getMoisFlux(T, m, precip, q):\n",
    "    \n",
    "    L = 2.5 * 10**6 # latent heat of evaporation\n",
    "    T_0 = 273.15 # freezing temperature\n",
    "    R_w = 461.25 # specific gas constant for water \n",
    "    e_s_0 = 6.11 # hPa; constant in front of clausius clapeyron relation\n",
    "    P_surf = 1013.25 #hPa; surface pressure \n",
    "    mu = 50. # density of water * soil column depth * porisity of soil\n",
    "    q = 0.5\n",
    "    \n",
    "    alpha = 10. # radiative feedback\n",
    "    v = 10**(-2) # density of air divided by surface resistance\n",
    "    \n",
    "    exp_arg = L * R_w**(-1) * (T_0**(-1) - T**(-1))\n",
    "    sat_humidity = 0.622 * e_s_0 * P_surf**(-1) * np.exp(exp_arg)\n",
    "    \n",
    "    mois_flux = precip - v * m (sat_humidity - q)\n",
    "    \n",
    "    return mu**(-1) * mois_flux"
   ]
  },
  {
   "cell_type": "code",
   "execution_count": 9,
   "id": "violent-cleaners",
   "metadata": {},
   "outputs": [
    {
     "data": {
      "text/plain": [
       "[<matplotlib.lines.Line2D at 0x2ae8ca533a90>]"
      ]
     },
     "execution_count": 9,
     "metadata": {},
     "output_type": "execute_result"
    },
    {
     "data": {
      "image/png": "[encoded data removed]",
      "text/plain": [
       "<Figure size 432x288 with 1 Axes>"
      ]
     },
     "metadata": {
      "needs_background": "light"
     },
     "output_type": "display_data"
    }
   ],
   "source": [
    "# Newtonian proof of concept\n",
    "\n",
    "import numpy as np\n",
    "import matplotlib.pyplot as plt\n",
    "\n",
    "y = np.zeros(1000)\n",
    "\n",
    "x = np.linspace(0, 10, 1000)\n",
    "\n",
    "for i in range(0, len(y)):\n",
    "    y[i] = y[i-1] + x[i-1] * .01\n",
    "    \n",
    "plt.plot(x, y, color='r')\n",
    "plt.plot(x, 0.5*x**2, color='b')\n"
   ]
  },
  {
   "cell_type": "code",
   "execution_count": null,
   "id": "rubber-consumer",
   "metadata": {},
   "outputs": [],
   "source": []
  }
 ],
 "metadata": {
  "kernelspec": {
   "display_name": "Python 3",
   "language": "python",
   "name": "python3"
  },
  "language_info": {
   "codemirror_mode": {
    "name": "ipython",
    "version": 3
   },
   "file_extension": ".py",
   "mimetype": "text/x-python",
   "name": "python",
   "nbconvert_exporter": "python",
   "pygments_lexer": "ipython3",
   "version": "3.8.5"
  }
 },
 "nbformat": 4,
 "nbformat_minor": 5
}

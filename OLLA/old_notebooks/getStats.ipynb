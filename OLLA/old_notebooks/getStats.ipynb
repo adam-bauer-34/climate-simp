{
 "cells": [
  {
   "cell_type": "markdown",
   "id": "gothic-concert",
   "metadata": {},
   "source": [
    "# getStats\n",
    "\n",
    "Function takes a list of files (.nc) and returns statistical quantities of interest to tune our forcing. We need to compute the: \n",
    "\n",
    "- radiation anomaly (standard deviation?)\n",
    "- maximum, average, and minimum shortwave radiation limits\n",
    "- temperature mean\n",
    "- temperature anomaly (standard deviation?)\n",
    "- humidity mean \n",
    "- humidity anomaly (standard deviation?)\n",
    "- precipitation mean\n",
    "- precipitation anomaly (standard deviation?)\n",
    "- the mean precipitation in any one event"
   ]
  },
  {
   "cell_type": "code",
   "execution_count": 1,
   "id": "instructional-prototype",
   "metadata": {},
   "outputs": [],
   "source": [
    "import numpy as np\n",
    "import xarray as xr\n",
    "import glob"
   ]
  },
  {
   "cell_type": "code",
   "execution_count": 2,
   "id": "civic-government",
   "metadata": {},
   "outputs": [],
   "source": [
    "def getStats(rad_file_array, precip_file_array, threshold):\n",
    "    \n",
    "    rad_mean, rad_std, rad_max, rad_min = getMeanStdMaxMin(rad_file_array, \"F_solar\") \n",
    "    \n",
    "    #temp_mean, temp_std, temp_max, temp_min = getMeanStdMaxMin(temp_file_array, \"temperature\")\n",
    "    \n",
    "    #hum_mean, hum_std, hum_max, hum_min = getMeanStdMaxMin(hum_file_array, \"humidity\")\n",
    "    \n",
    "    precip_mean, precip_std, precip_max, precip_min = getMeanStdMaxMin(precip_file_array, \"precip\")\n",
    "    \n",
    "    indiv_precip_event_mean = getPrecipEventMeansXARRAY(precip_file_array, threshold) # threshold = precip to consider an event\n",
    "    \n",
    "    ###\n",
    "    stats_array = np.zeros(7) # initialize stats array\n",
    "    \n",
    "    # [rad_anom_norm, sw_limit, sw_average, sw_min, temp_mean, temp_anom_norm, hum_mean, hum_anom_mean, mean_precip, std_precip, indiv_event_mean] in getForcingFunctions\n",
    "    \n",
    "    stats_array[0] = rad_std\n",
    "    stats_array[1] = rad_max\n",
    "    stats_array[2] = rad_mean\n",
    "    stats_array[3] = rad_min\n",
    "    \n",
    "    #stats_array[4] = temp_mean\n",
    "    #stats_array[5] = temp_std\n",
    "    \n",
    "    #stats_array[6] = hum_mean\n",
    "    #stats_array[7] = hum_std\n",
    "    \n",
    "    stats_array[4] = precip_mean\n",
    "    stats_array[5] = precip_std\n",
    "    \n",
    "    stats_array[6] = indiv_precip_event_mean\n",
    "    \n",
    "    return stats_array"
   ]
  },
  {
   "cell_type": "code",
   "execution_count": 3,
   "id": "electrical-ability",
   "metadata": {},
   "outputs": [],
   "source": [
    "def getMeanStdMaxMin(filearray, data_var):\n",
    "    \n",
    "    N = len(filearray) \n",
    "    param_all_array = []\n",
    "    param_max_array = []\n",
    "    param_min_array = []\n",
    "    \n",
    "    for i in range(0, N):\n",
    "        tmp_dataset = xr.open_dataset(filearray[i]) # Open ith summer's dataset\n",
    "        \n",
    "        tmp_param = tmp_dataset[data_var].values # open the \"data_var\" values for all summers\n",
    "        \n",
    "        tmp_param_max = np.amax(tmp_param) # take the file max\n",
    "        tmp_param_min = np.amin(tmp_param) # take the file min\n",
    "        \n",
    "        param_max_array.append(tmp_param_max) # add file max to list\n",
    "        param_min_array.append(tmp_param_min) # add file min to list\n",
    "        param_all_array.append(tmp_param) # add values to total array\n",
    "    \n",
    "    param_all_array = np.concatenate(param_all_array) # concatenate arrays\n",
    "    \n",
    "    param_max = np.amax(param_max_array) # determine max of all files\n",
    "    param_min = np.amin(param_min_array) # determine min of all files\n",
    "    \n",
    "    param_mean = np.mean(param_all_array) # determine mean of all files\n",
    "    param_std = np.std(param_all_array) # determine standard deviation of all files\n",
    "    \n",
    "    return param_mean, param_std, param_max, param_min"
   ]
  },
  {
   "cell_type": "code",
   "execution_count": 4,
   "id": "joined-classic",
   "metadata": {},
   "outputs": [],
   "source": [
    "def getPrecipEventMeansXARRAY(filearray, threshold):\n",
    "    \n",
    "    N_files = len(filearray) # number of files\n",
    "    \n",
    "    print(N_files)\n",
    "    \n",
    "    precip_all_array = []\n",
    "    event_array = []\n",
    "    tmp_event = []\n",
    "    \n",
    "    # loop through all files and find the following things:\n",
    "    \n",
    "    for i in range(0,N_files):\n",
    "        \n",
    "        tmp_dataset = xr.open_dataset(filearray[i]) # open a file's worth of data\n",
    "        \n",
    "        tmp_precip = tmp_dataset[\"precip\"].values # extract precip values as a numpy array EDIT KEYWORD WHEN YOU KNOW MORE\n",
    "    \n",
    "        #print(tmp_precip)\n",
    "        \n",
    "        N_sum = tmp_precip.shape[1] # number of summers\n",
    "        \n",
    "        print(N_sum)\n",
    "        \n",
    "        for k in range(0, N_sum): # loop through the summers\n",
    "            \n",
    "            index_array = np.where(tmp_precip[:,k] > threshold)[0] # find within this numpy array where an event has occured relative to some threshold\n",
    "\n",
    "            N_mins = tmp_precip.shape[0]\n",
    "            \n",
    "            print(N_mins)\n",
    "        \n",
    "            for j in range(0, N_mins): \n",
    "                \n",
    "                # loop through minute indices. if index j is in index array, then precip event happened at\n",
    "                # that index. add those precip values to a temporary event array. \n",
    "\n",
    "                if j in index_array:\n",
    "                    tmp_event.append(float(tmp_precip[j,k])) # append precipitation amount for an event\n",
    "\n",
    "                    if j+1 in index_array: # if the next member of the array is also part of the event, keep looping\n",
    "                        continue\n",
    "\n",
    "                    else:\n",
    "                        event_array.append(tmp_event) # if the next member is not part of the event, append the event to a list of all events\n",
    "                        tmp_event = [] # clear temp event array\n",
    "\n",
    "                else:\n",
    "                    continue \n",
    "                    \n",
    "    \n",
    "    N_events = len(event_array)\n",
    "    mean_array = []\n",
    "    \n",
    "    for i in range(0, N_events):\n",
    "        tmp_mean = np.mean(event_array[i])\n",
    "        mean_array.append(tmp_mean) # take mean of individual events and add them to an array\n",
    "    \n",
    "    return np.mean(mean_array) # mean of all events (\"mean of the mean of individual events\")"
   ]
  },
  {
   "cell_type": "code",
   "execution_count": 5,
   "id": "first-woman",
   "metadata": {},
   "outputs": [],
   "source": [
    "# testing bits of this code \n",
    "\n",
    "rad_filelist=glob.glob(\"/data/keeling/a/adammb4/SGP_proj_2021/DATA/*_f.nc\")\n",
    "precip_filelist = glob.glob(\"/data/keeling/a/adammb4/SGP_proj_2021/DATA/*_p.nc\")\n",
    "threshold = 0.1"
   ]
  },
  {
   "cell_type": "code",
   "execution_count": 6,
   "id": "technical-macedonia",
   "metadata": {},
   "outputs": [
    {
     "name": "stdout",
     "output_type": "stream",
     "text": [
      "2\n",
      "2\n",
      "6\n",
      "6\n",
      "2\n",
      "6\n",
      "6\n"
     ]
    }
   ],
   "source": [
    "stats_array = getStats(rad_filelist, precip_filelist, threshold)"
   ]
  },
  {
   "cell_type": "code",
   "execution_count": 7,
   "id": "distant-genealogy",
   "metadata": {},
   "outputs": [
    {
     "name": "stdout",
     "output_type": "stream",
     "text": [
      "[1.38381016 5.         1.20833337 0.         1.01666665 1.14297378\n",
      " 1.56428571]\n"
     ]
    }
   ],
   "source": [
    "print(stats_array)"
   ]
  },
  {
   "cell_type": "markdown",
   "id": "driving-flexibility",
   "metadata": {},
   "source": [
    "Everything below this is either:\n",
    "- old pieces of code used as toy models for the above\n",
    "- testing objects for code"
   ]
  },
  {
   "cell_type": "code",
   "execution_count": null,
   "id": "ordinary-level",
   "metadata": {},
   "outputs": [],
   "source": [
    "# These were used to make test1_f and test1_p. left here to check by hand calcs done by code above\n",
    "\n",
    "F_solar_1 = [0,1,1,2,1,0]\n",
    "f2 = [0,2,3,2,1,2]\n",
    "\n",
    "p1 = [0,1,2,0,1,0]\n",
    "p2 = [0,1,2,3,0,1]\n",
    "\n",
    "F_solar = np.stack((F_solar_1, f2)).T\n",
    "precip = np.stack((p1,p2)).T"
   ]
  },
  {
   "cell_type": "code",
   "execution_count": null,
   "id": "spoken-firmware",
   "metadata": {},
   "outputs": [],
   "source": [
    "# These were used to make test2_f and test2_p. left here to check by hand calcs done by code above\n",
    "\n",
    "F1 = [0,4,5,0,0,0]\n",
    "F2 = [0,1,3,0,0,1]\n",
    "\n",
    "P1 = [0,.4,2,0,2,0]\n",
    "P2 = [1,1,4,3,0,0]\n",
    "\n",
    "F_solar2 = np.stack((F1, F2)).T\n",
    "precip2 = np.stack((P1,P2)).T"
   ]
  }
 ],
 "metadata": {
  "kernelspec": {
   "display_name": "Python 3",
   "language": "python",
   "name": "python3"
  },
  "language_info": {
   "codemirror_mode": {
    "name": "ipython",
    "version": 3
   },
   "file_extension": ".py",
   "mimetype": "text/x-python",
   "name": "python",
   "nbconvert_exporter": "python",
   "pygments_lexer": "ipython3",
   "version": "3.8.5"
  }
 },
 "nbformat": 4,
 "nbformat_minor": 5
}

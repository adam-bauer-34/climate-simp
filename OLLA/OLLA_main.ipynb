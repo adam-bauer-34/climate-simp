{
 "cells": [
  {
   "cell_type": "markdown",
   "id": "gothic-concert",
   "metadata": {},
   "source": [
    "# One Layer Land Atmosphere\n",
    "\n",
    "## (Model) (Name work in progress)\n",
    "\n",
    "This code will hopefully be my code for my one layer model. The model will be forced by stochastic red noise tuned to the SGP data."
   ]
  },
  {
   "cell_type": "code",
   "execution_count": 1,
   "id": "instructional-prototype",
   "metadata": {},
   "outputs": [],
   "source": [
    "import numpy as np"
   ]
  }
 ],
 "metadata": {
  "kernelspec": {
   "display_name": "Python 3",
   "language": "python",
   "name": "python3"
  },
  "language_info": {
   "codemirror_mode": {
    "name": "ipython",
    "version": 3
   },
   "file_extension": ".py",
   "mimetype": "text/x-python",
   "name": "python",
   "nbconvert_exporter": "python",
   "pygments_lexer": "ipython3",
   "version": "3.8.5"
  }
 },
 "nbformat": 4,
 "nbformat_minor": 5
}

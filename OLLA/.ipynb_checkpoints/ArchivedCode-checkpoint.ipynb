{
 "cells": [
  {
   "cell_type": "code",
   "execution_count": null,
   "id": "broadband-offer",
   "metadata": {},
   "outputs": [],
   "source": [
    "# Test version of getPrecipEventMeansXARRAY\n",
    "\n",
    "def getPrecipEventMeans(precip):\n",
    "    \n",
    "    precip_all_array = []\n",
    "\n",
    "    index_array = getEventIndicies(precip)\n",
    "    \n",
    "    N = len(precip)\n",
    "    event_array = []\n",
    "    tmp_event = []\n",
    "    \n",
    "    for i in range(0, N):\n",
    "        \n",
    "        if i in index_array:\n",
    "            tmp_event.append(float(precip[i]))\n",
    "            \n",
    "            if i+1 in index_array:\n",
    "                continue\n",
    "            \n",
    "            else:\n",
    "                event_array.append(tmp_event)\n",
    "                tmp_event = []\n",
    "            \n",
    "        else:\n",
    "            continue\n",
    "            \n",
    "    N_events = len(event_array)\n",
    "    mean_array = []\n",
    "    \n",
    "    for i in range(0, N_events):\n",
    "        tmp_mean = np.mean(event_array[i])\n",
    "        mean_array.append(tmp_mean)\n",
    "    \n",
    "            \n",
    "    return np.mean(mean_array)"
   ]
  },
  {
   "cell_type": "code",
   "execution_count": null,
   "id": "requested-flour",
   "metadata": {},
   "outputs": [],
   "source": [
    "# Test version of getMeanStdMaxMin\n",
    "\n",
    "def getTestStats(filearray):\n",
    "    \n",
    "    N = len(filearray)\n",
    "    Tup_all_array = []\n",
    "    Tup_max_array = []\n",
    "    \n",
    "    for i in range(0, N):\n",
    "        tmp_dataset = xr.open_dataset(filearray[i])\n",
    "        \n",
    "        tmp_Tup = tmp_dataset[\"c_f\"].values\n",
    "        tmp_Tup_max = np.amax(tmp_Tup)\n",
    "        \n",
    "        Tup_max_array.append(tmp_Tup_max)\n",
    "        Tup_all_array.append(tmp_Tup)\n",
    "    \n",
    "    Tup_all_array = np.concatenate(Tup_all_array)\n",
    "    \n",
    "    Tup_max = np.amax(Tup_max_array)\n",
    "    \n",
    "    Tup_mean = np.mean(Tup_all_array)\n",
    "    Tup_std = np.std(Tup_all_array)\n",
    "    \n",
    "    return Tup_mean, Tup_std, Tup_max"
   ]
  },
  {
   "cell_type": "code",
   "execution_count": null,
   "id": "italic-phoenix",
   "metadata": {},
   "outputs": [],
   "source": [
    "# Newtonian integrator proof of concept\n",
    "\n",
    "import numpy as np\n",
    "import matplotlib.pyplot as plt\n",
    "\n",
    "y = np.zeros(1000)\n",
    "\n",
    "x = np.linspace(0, 10, 1000)\n",
    "\n",
    "for i in range(0, len(y)):\n",
    "    y[i] = y[i-1] + x[i-1] * .01\n",
    "    \n",
    "plt.plot(x, y, color='r')\n",
    "plt.plot(x, 0.5*x**2, color='b')"
   ]
  }
 ],
 "metadata": {
  "kernelspec": {
   "display_name": "Python 3",
   "language": "python",
   "name": "python3"
  },
  "language_info": {
   "codemirror_mode": {
    "name": "ipython",
    "version": 3
   },
   "file_extension": ".py",
   "mimetype": "text/x-python",
   "name": "python",
   "nbconvert_exporter": "python",
   "pygments_lexer": "ipython3",
   "version": "3.8.5"
  }
 },
 "nbformat": 4,
 "nbformat_minor": 5
}

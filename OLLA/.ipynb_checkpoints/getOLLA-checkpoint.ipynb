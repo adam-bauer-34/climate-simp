{
 "cells": [
  {
   "cell_type": "markdown",
   "id": "suffering-deployment",
   "metadata": {},
   "source": [
    "# Master OLLA Integrator\n",
    "\n",
    "This file has the integrator and actual OLLA processing code. OLLA takes a .nc file of forcing and outputs the temperature time series. "
   ]
  },
  {
   "cell_type": "code",
   "execution_count": 1,
   "id": "critical-start",
   "metadata": {},
   "outputs": [],
   "source": [
    "import numpy as np \n",
    "import xarray as xr "
   ]
  },
  {
   "cell_type": "code",
   "execution_count": 2,
   "id": "mounted-stranger",
   "metadata": {},
   "outputs": [],
   "source": [
    "def getOLLA(filename):\n",
    "    \n",
    "    forcing = xr.open_dataset(filename)\n",
    "    \n",
    "    F_solar = forcing[\"F_solar\"].values\n",
    "    t_upper = forcing[\"t_upper\"].values\n",
    "    q_upper = forcing[\"q_upper\"].values\n",
    "    percip = forcing[\"precip\"].values\n",
    "    cf = forcing[\"c_f\"].values\n",
    "    \n",
    "    ### NEED A FAT UNITS CHECK ON THE ABOVE DATA TO MAKE SURE WE'RE NOT MESSING UP UNITS ###\n",
    "    \n",
    "    temp_series, mois_seris = getIntegration(ICs, F_solar, t_upper, q_upper, precip, cf)\n",
    "    \n",
    "    return temp_series, mois_series"
   ]
  },
  {
   "cell_type": "code",
   "execution_count": null,
   "id": "advanced-faculty",
   "metadata": {},
   "outputs": [],
   "source": [
    "def getIntegration(ICs, F_solar, t_upper, q_upper, precip, cf):\n",
    "    \n",
    "    N_summers = len(F_solar.shape[0])\n",
    "    N_minutes = len(F_solar.shape[1])\n",
    "    \n",
    "    temp_series = np.zeros((N_summers, N_minutes))\n",
    "    mois_series = np.zeros((N_summers, N_minutes))\n",
    "    \n",
    "    for i in range(1, N_summers): # loop through summers\n",
    "        \n",
    "        for j in range(0, N_minutes): # loop through minutes\n",
    "            \n",
    "            temp_series[i,j] = temp_series[i,j-1] + getTempFlux(temp_series[i,j-1], mois_series[i,j-1])\n",
    "            mois_series[i,j] = mois_series[i,j-1] + getMoisFlux(temp_series[i,j-1], mois_series[i,j-1])\n",
    "            \n",
    "    \n",
    "    return 1"
   ]
  },
  {
   "cell_type": "code",
   "execution_count": null,
   "id": "biological-details",
   "metadata": {},
   "outputs": [],
   "source": [
    "def getTempFlux(T, m):\n",
    "    \n",
    "    return temp_flux"
   ]
  },
  {
   "cell_type": "code",
   "execution_count": null,
   "id": "mysterious-sense",
   "metadata": {},
   "outputs": [],
   "source": [
    "def getMoisFlux(T, m):\n",
    "    \n",
    "    return mois_flux"
   ]
  },
  {
   "cell_type": "code",
   "execution_count": 4,
   "id": "outdoor-paint",
   "metadata": {},
   "outputs": [
    {
     "data": {
      "text/plain": [
       "[<matplotlib.lines.Line2D at 0x2ae8c939d250>]"
      ]
     },
     "execution_count": 4,
     "metadata": {},
     "output_type": "execute_result"
    },
    {
     "data": {
      "image/png": "[encoded data removed]",
      "text/plain": [
       "<Figure size 432x288 with 1 Axes>"
      ]
     },
     "metadata": {
      "needs_background": "light"
     },
     "output_type": "display_data"
    }
   ],
   "source": [
    "import numpy as np\n",
    "import matplotlib.pyplot as plt\n",
    "\n",
    "y = np.zeros(100)\n",
    "\n",
    "x = np.linspace(0, 10, 100)\n",
    "\n",
    "for i in range(0, len(y)):\n",
    "    y[i] = y[i-1] + x[i-1] * .1\n",
    "    \n",
    "plt.plot(x, y, color='r')\n",
    "plt.plot(x, 0.5*x**2, color='b')\n"
   ]
  },
  {
   "cell_type": "code",
   "execution_count": null,
   "id": "disciplinary-bracelet",
   "metadata": {},
   "outputs": [],
   "source": []
  }
 ],
 "metadata": {
  "kernelspec": {
   "display_name": "Python 3",
   "language": "python",
   "name": "python3"
  },
  "language_info": {
   "codemirror_mode": {
    "name": "ipython",
    "version": 3
   },
   "file_extension": ".py",
   "mimetype": "text/x-python",
   "name": "python",
   "nbconvert_exporter": "python",
   "pygments_lexer": "ipython3",
   "version": "3.8.5"
  }
 },
 "nbformat": 4,
 "nbformat_minor": 5
}

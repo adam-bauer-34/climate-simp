{
 "cells": [
  {
   "cell_type": "markdown",
   "id": "fuzzy-madness",
   "metadata": {},
   "source": [
    "# OLLA Pseudo-code\n",
    "\n",
    "Here is the way I want to structure OLLA. "
   ]
  },
  {
   "cell_type": "code",
   "execution_count": 8,
   "id": "french-watch",
   "metadata": {},
   "outputs": [],
   "source": [
    "# Import obligatory packages.\n",
    "\n",
    "import numpy as np\n",
    "import matplotlib.pyplot as plt \n",
    "import xarray as xr\n",
    "import glob"
   ]
  },
  {
   "cell_type": "code",
   "execution_count": 9,
   "id": "under-instrument",
   "metadata": {},
   "outputs": [],
   "source": [
    "# Import files into current terminal.\n",
    "\n",
    "PATH=\"/data/keeling/a/adammb4/SGP_proj_2021/DATA/\"\n",
    "raw_data = glob.glob(PATH+\"*.nc\")"
   ]
  },
  {
   "cell_type": "code",
   "execution_count": 4,
   "id": "facial-channel",
   "metadata": {},
   "outputs": [],
   "source": [
    "# Send files to statistics program to generate relevant statistical quantities.\n",
    "\n",
    "stats_array = getStats(raw_data)"
   ]
  },
  {
   "cell_type": "code",
   "execution_count": 5,
   "id": "streaming-draft",
   "metadata": {},
   "outputs": [],
   "source": [
    "# Pass resulting statistical quantities to a program that returns a red forcing .nc that is calibrated to said \n",
    "# statistical quantities; also pass the filename for ease of reference in next step\n",
    "\n",
    "tot_years = 1000000\n",
    "filename = \"foo\"\n",
    "\n",
    "getForcingNetCDF(tot_years, stats_array, filename)\n",
    "\n",
    "# THIS NEEDS TO BE SAVED TO PATH ABOVE NOT TO LOCAL DIRECTORY"
   ]
  },
  {
   "cell_type": "code",
   "execution_count": 6,
   "id": "fitting-reference",
   "metadata": {},
   "outputs": [],
   "source": [
    "# Import .nc as forcing\n",
    "\n",
    "PATH2 = \"/data/keeling/a/adammb4/SGP_proj_2021/DATA/filename.nc\"\n",
    "forcing = glob.glob(\"PATH2\")"
   ]
  },
  {
   "cell_type": "code",
   "execution_count": 7,
   "id": "optimum-gregory",
   "metadata": {},
   "outputs": [],
   "source": [
    "# Send forcing information to OLLA\n",
    "\n",
    "# Might need for loop situation here, but basic idea is \n",
    "\n",
    "temp_array = getOLLA(forcing)"
   ]
  },
  {
   "cell_type": "code",
   "execution_count": null,
   "id": "cognitive-injury",
   "metadata": {},
   "outputs": [],
   "source": [
    "# Print & plot the results from OLLA\n",
    "\n",
    "# Generic plotting business"
   ]
  }
 ],
 "metadata": {
  "kernelspec": {
   "display_name": "Python 3",
   "language": "python",
   "name": "python3"
  },
  "language_info": {
   "codemirror_mode": {
    "name": "ipython",
    "version": 3
   },
   "file_extension": ".py",
   "mimetype": "text/x-python",
   "name": "python",
   "nbconvert_exporter": "python",
   "pygments_lexer": "ipython3",
   "version": "3.8.5"
  }
 },
 "nbformat": 4,
 "nbformat_minor": 5
}

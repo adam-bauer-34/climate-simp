{
 "cells": [
  {
   "cell_type": "markdown",
   "id": "fresh-search",
   "metadata": {},
   "source": [
    "# Master Data Statistics \n",
    "\n",
    "This file is used for analyzing data from observations and the pre-baked synthetic data for feeding OLLA."
   ]
  },
  {
   "cell_type": "markdown",
   "id": "outside-reputation",
   "metadata": {},
   "source": [
    "## Radiation Data"
   ]
  },
  {
   "cell_type": "code",
   "execution_count": 1,
   "id": "scenic-argentina",
   "metadata": {},
   "outputs": [],
   "source": [
    "import numpy as np \n",
    "import matplotlib.pyplot as plt \n",
    "import xarray as xr \n",
    "import glob \n",
    "import scipy.stats as sts\n",
    "\n",
    "from getStats import getRemoveDefects, getPrecipEventMeansXARRAY_1D, getAutocorrelationTrunc"
   ]
  },
  {
   "cell_type": "code",
   "execution_count": null,
   "id": "charming-uncle",
   "metadata": {},
   "outputs": [],
   "source": [
    "def getDailyMeanMaxStdSkewArrays(filelist, keyword):\n",
    "    \n",
    "    N_files = len(filelist)\n",
    "            \n",
    "    daily_mean_array = [] # the mean of each day's radiation\n",
    "    daily_max_array = [] # the maximum value of the each day's radiation\n",
    "    daily_std_array = [] # the standard deviation of each day's diurnal cycle\n",
    "    daily_skew_array = [] # the skewness of each day's diurnal cycle\n",
    "    \n",
    "    for i in range(0, N_files):\n",
    "        \n",
    "        print(i)\n",
    "        \n",
    "        tmp_ds = xr.open_dataset(filelist[i])\n",
    "        \n",
    "        tmp_rad_data = tmp_ds[keyword].values\n",
    "        \n",
    "        N_days = int(tmp_rad_data.shape[0] * (60*24)**(-1))\n",
    "        \n",
    "        tmp_rad = np.zeros(N_days*60*24)\n",
    "        \n",
    "        if keyword == \"F_solar\":\n",
    "            \n",
    "            for k in range(0, tmp_rad_data.shape[0]):\n",
    "                tmp_rad[k] = tmp_rad_data[k][0]\n",
    "        \n",
    "        else:\n",
    "            tmp_rad = tmp_rad_data\n",
    "        \n",
    "        #print(tmp_rad)\n",
    "        \n",
    "        N_days = int(len(tmp_rad) * (60*24)**(-1))\n",
    "        \n",
    "        #print(N_days)\n",
    "        \n",
    "        tmp_rad_daysplit = np.split(tmp_rad, N_days)\n",
    "        \n",
    "        for j in range(0, N_days):\n",
    "            \n",
    "            #print(j)\n",
    "            \n",
    "            if keyword == \"BestEstimate_down_short_hemisp\":\n",
    "                tmp_rad_day_clean = getRemoveDefects(tmp_rad_daysplit[j]) # day's worth of clean data from obs\n",
    "            \n",
    "            else:\n",
    "                tmp_rad_day_clean = tmp_rad_daysplit[j]\n",
    "            \n",
    "            if len(tmp_rad_day_clean) > 0: # if getRemoveDefects didn't remove every data point, do:\n",
    "                daily_mean_array.append(np.mean(tmp_rad_day_clean, axis=0))\n",
    "                daily_max_array.append(np.amax(tmp_rad_day_clean, axis=0))\n",
    "                daily_std_array.append(np.std(tmp_rad_day_clean, axis=0))\n",
    "                daily_skew_array.append(sts.skew(tmp_rad_day_clean, axis=0))\n",
    "                \n",
    "            else: # if getRemoveDefects found an entire day's worth of bad data, skip that day and continue looping\n",
    "                continue\n",
    "        \n",
    "    return daily_mean_array, daily_max_array, daily_std_array, daily_skew_array"
   ]
  },
  {
   "cell_type": "code",
   "execution_count": null,
   "id": "hollywood-glenn",
   "metadata": {},
   "outputs": [],
   "source": [
    "PATH = \"/data/keeling/a/adammb4/SGP_proj_2021/DATA/\"\n",
    "rad_data_filenames = glob.glob(PATH+\"SGP_Best*\")\n",
    "obs_keyword = \"BestEstimate_down_short_hemisp\"\n",
    "\n",
    "obs_daily_mean_array, obs_daily_max_array, obs_daily_std_array, obs_daily_skew_array = getDailyMeanMaxStdSkewArrays(rad_data_filenames, obs_keyword) "
   ]
  },
  {
   "cell_type": "code",
   "execution_count": null,
   "id": "laden-expense",
   "metadata": {},
   "outputs": [],
   "source": [
    "obs_overall_avg_rad = np.mean(obs_daily_mean_array)\n",
    "obs_peak_daily_rad = np.amax(obs_daily_max_array)\n",
    "obs_min_daily_rad = np.amin(obs_daily_max_array)\n",
    "obs_overall_avg_std = np.mean(obs_daily_std_array)\n",
    "obs_overall_avg_skew = np.mean(obs_daily_skew_array)\n",
    "\n",
    "print(obs_overall_avg_rad, obs_peak_daily_rad, obs_min_daily_rad, np.std(obs_daily_mean_array), sts.skew(obs_daily_mean_array))"
   ]
  },
  {
   "cell_type": "code",
   "execution_count": null,
   "id": "further-consent",
   "metadata": {},
   "outputs": [],
   "source": [
    "synth_filenames = glob.glob(PATH+\"SGP_synth*\")\n",
    "syn_keyword = \"F_solar\"\n",
    "\n",
    "syn_daily_mean_array, syn_daily_max_array, syn_daily_std_array, syn_daily_skew_array = getDailyMeanMaxStdSkewArrays(synth_filenames, syn_keyword)"
   ]
  },
  {
   "cell_type": "code",
   "execution_count": null,
   "id": "breeding-candidate",
   "metadata": {},
   "outputs": [],
   "source": [
    "syn_overall_avg_rad = np.mean(syn_daily_mean_array)\n",
    "syn_peak_daily_rad = np.amax(syn_daily_max_array)\n",
    "syn_min_daily_rad = np.amin(syn_daily_max_array)\n",
    "syn_overall_avg_std = np.mean(syn_daily_std_array)\n",
    "syn_overall_avg_skew = np.mean(syn_daily_skew_array)\n",
    "\n",
    "print(syn_overall_avg_rad, syn_peak_daily_rad, syn_min_daily_rad, np.std(syn_daily_mean_array), sts.skew(syn_daily_mean_array))"
   ]
  },
  {
   "cell_type": "code",
   "execution_count": null,
   "id": "precious-architect",
   "metadata": {},
   "outputs": [],
   "source": [
    "fig, ax = plt.subplots(2,2, figsize=(20,10))\n",
    "\n",
    "ax[0,0].hist(obs_daily_mean_array)\n",
    "ax[0,0].set_xlabel(\"Daily Mean\")\n",
    "ax[0,0].set_ylabel(\"Frequency\")\n",
    "\n",
    "ax[0,1].hist(obs_daily_max_array)\n",
    "ax[0,1].set_xlabel(\"Daily Maximum\")\n",
    "ax[0,1].set_ylabel(\"Frequency\")\n",
    "\n",
    "\"\"\"\n",
    "ax[0,2].hist(obs_daily_std_array)\n",
    "ax[0,2].set_xlabel(\"Daily Standard Deviation\")\n",
    "ax[0,2].set_ylabel(\"Frequency\")\n",
    "\n",
    "ax[0,3].hist(obs_daily_skew_array)\n",
    "ax[0,3].set_xlabel(\"Daily Skewness\")\n",
    "ax[0,3].set_ylabel(\"Frequency\")\n",
    "\"\"\"\n",
    "\n",
    "ax[1,0].hist(syn_daily_mean_array, color='red')\n",
    "ax[1,0].set_xlabel(\"Daily Mean\")\n",
    "ax[1,0].set_ylabel(\"Frequency\")\n",
    "\n",
    "ax[1,1].hist(syn_daily_max_array, color='red')\n",
    "ax[1,1].set_xlabel(\"Daily Maximum\")\n",
    "ax[1,1].set_ylabel(\"Frequency\")\n",
    "\n",
    "\"\"\"\n",
    "ax[1,2].hist(syn_daily_std_array, color='red')\n",
    "ax[1,2].set_xlabel(\"Daily Standard Deviation\")\n",
    "ax[1,2].set_ylabel(\"Frequency\")\n",
    "\n",
    "ax[1,3].hist(syn_daily_skew_array, color='red')\n",
    "ax[1,3].set_xlabel(\"Daily Skewness\")\n",
    "ax[1,3].set_ylabel(\"Frequency\")\n",
    "\"\"\""
   ]
  },
  {
   "cell_type": "code",
   "execution_count": null,
   "id": "synthetic-being",
   "metadata": {},
   "outputs": [],
   "source": [
    "# compute autocorrelation between daily means\n",
    "\n",
    "obs_auto = getAutocorrelationTrunc(np.std(obs_daily_mean_array)**(-1) * (obs_daily_mean_array - np.mean(obs_daily_mean_array)) )\n",
    "syn_auto = getAutocorrelationTrunc(np.std(syn_daily_mean_array)**(-1) * (syn_daily_mean_array - np.mean(syn_daily_mean_array)) )\n",
    "\n",
    "#obs_auto = np.correlate(obs_daily_mean_array,obs_daily_mean_array,mode='full') # t \\in (-infty, infty)\n",
    "#syn_auto = np.correlate(syn_daily_mean_array,syn_daily_mean_array,mode='full') # t \\in (-infty, infty)\n",
    "\n",
    "avg_obs_auto = np.mean(obs_auto)\n",
    "avg_syn_auto = np.mean(syn_auto)\n",
    "\n",
    "print(avg_obs_auto, avg_syn_auto)\n",
    "\n",
    "fig, ax = plt.subplots(1,2, figsize=(15,7.5))\n",
    "\n",
    "ax[0].plot(obs_auto * (len(obs_daily_mean_array))**(-1), color='blue', label=\"observation\")\n",
    "ax[0].set_xlim((0,10))\n",
    "ax[0].set_ylim((0,1))\n",
    "\n",
    "ax[1].plot(syn_auto * (len(syn_daily_mean_array))**(-1), color='red', label=\"synthetic\")\n",
    "ax[1].set_xlim((0,10))\n",
    "ax[1].set_ylim((0,1))"
   ]
  },
  {
   "cell_type": "markdown",
   "id": "personalized-intention",
   "metadata": {},
   "source": [
    "## Precip Data"
   ]
  },
  {
   "cell_type": "code",
   "execution_count": 2,
   "id": "graphic-estate",
   "metadata": {},
   "outputs": [],
   "source": [
    "PATH = \"/data/keeling/a/adammb4/SGP_proj_2021/DATA/\"\n",
    "obs_precip_filenames = glob.glob(PATH+\"SGP_precip*\")\n",
    "syn_precip_filenames = glob.glob(PATH+\"SGP_synth*\")\n",
    "\n",
    "obs_mean_event_array = getPrecipEventMeansXARRAY_1D(obs_precip_filenames, 0, \"precip\")\n",
    "syn_mean_event_array = getPrecipEventMeansXARRAY_1D(syn_precip_filenames, 0, \"precip_syn\")"
   ]
  },
  {
   "cell_type": "code",
   "execution_count": null,
   "id": "efficient-position",
   "metadata": {},
   "outputs": [],
   "source": [
    "ds = xr.open_dataset(obs_precip_filenames[0])\n",
    "ds"
   ]
  },
  {
   "cell_type": "code",
   "execution_count": 3,
   "id": "independent-assistant",
   "metadata": {},
   "outputs": [
    {
     "data": {
      "text/plain": [
       "(array([497.,  68.,  19.,  18.,   6.,   4.,   0.,   1.,   0.,   2.]),\n",
       " array([4.47738418e-13, 5.26438332e-01, 1.05287666e+00, 1.57931499e+00,\n",
       "        2.10575333e+00, 2.63219166e+00, 3.15862999e+00, 3.68506832e+00,\n",
       "        4.21150665e+00, 4.73794498e+00, 5.26438332e+00]),\n",
       " <BarContainer object of 10 artists>)"
      ]
     },
     "execution_count": 3,
     "metadata": {},
     "output_type": "execute_result"
    },
    {
     "data": {
      "image/png": "[encoded data removed]",
      "text/plain": [
       "<Figure size 432x288 with 2 Axes>"
      ]
     },
     "metadata": {
      "needs_background": "light"
     },
     "output_type": "display_data"
    }
   ],
   "source": [
    "fig, ax = plt.subplots(1,2)\n",
    "\n",
    "ax[0].hist(obs_mean_event_array)\n",
    "ax[1].hist(syn_mean_event_array)"
   ]
  },
  {
   "cell_type": "markdown",
   "id": "processed-protest",
   "metadata": {},
   "source": [
    "## Testing Grounds"
   ]
  },
  {
   "cell_type": "code",
   "execution_count": null,
   "id": "joined-bangkok",
   "metadata": {},
   "outputs": [],
   "source": [
    "synth_filenames = glob.glob(PATH+\"SGP_synth*\")\n",
    "\n",
    "ds = xr.open_dataset(synth_filenames[0])\n",
    "\n",
    "rad = ds[\"F_solar\"].values\n",
    "\n",
    "rad[699][0]"
   ]
  },
  {
   "cell_type": "code",
   "execution_count": null,
   "id": "skilled-collect",
   "metadata": {},
   "outputs": [],
   "source": [
    "daily_mean_array = []\n",
    "daily_max_array = []\n",
    "daily_min_array = []\n",
    "daily_skew_array = []\n",
    "\n",
    "for i in range(0, len(rad_daysplit_clean)):\n",
    "    tmp_mean = np.mean(rad_daysplit_clean[i])\n",
    "    tmp_max = np.amax(rad_daysplit_clean[i])\n",
    "    tmp_min = np.amin(rad_daysplit_clean[i])\n",
    "    tmp_skew = sts.skew(rad_daysplit_clean[i])\n",
    "    daily_mean_array.append(tmp_mean)\n",
    "    daily_max_array.append(tmp_max)\n",
    "    daily_min_array.append(tmp_min)\n",
    "    daily_skew_array.append(tmp_skew)\n",
    "\n",
    "max_peak = np.amax(daily_max_array)\n",
    "min_peak = np.amin(daily_max_array)\n",
    "\n",
    "len(daily_mean_array)"
   ]
  },
  {
   "cell_type": "code",
   "execution_count": null,
   "id": "contemporary-triple",
   "metadata": {},
   "outputs": [],
   "source": [
    "ds = xr.open_dataset(rad_data_filenames[0])\n",
    "rad = ds[\"BestEstimate_down_short_hemisp\"].values\n",
    "\n",
    "rad_clean = getRemoveDefects(rad)"
   ]
  },
  {
   "cell_type": "code",
   "execution_count": null,
   "id": "intensive-holiday",
   "metadata": {},
   "outputs": [],
   "source": [
    "rad_split = np.split(rad, 92)\n",
    "rad_clean_split = np.split(rad_clean, 92)\n",
    "\n",
    "fig, ax = plt.subplots(1,2, figsize=(20,10))\n",
    "\n",
    "ax[0].plot(rad_split[0])\n",
    "ax[0].set_ylim(0, 1400)\n",
    "\n",
    "ax[1].plot(rad_clean_split[0])\n",
    "ax[1].set_ylim(0,1400)"
   ]
  }
 ],
 "metadata": {
  "kernelspec": {
   "display_name": "Python 3",
   "language": "python",
   "name": "python3"
  },
  "language_info": {
   "codemirror_mode": {
    "name": "ipython",
    "version": 3
   },
   "file_extension": ".py",
   "mimetype": "text/x-python",
   "name": "python",
   "nbconvert_exporter": "python",
   "pygments_lexer": "ipython3",
   "version": "3.8.5"
  }
 },
 "nbformat": 4,
 "nbformat_minor": 5
}

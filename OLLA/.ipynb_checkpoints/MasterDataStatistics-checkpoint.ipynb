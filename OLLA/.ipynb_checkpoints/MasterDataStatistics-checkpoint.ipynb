{
 "cells": [
  {
   "cell_type": "markdown",
   "id": "fresh-search",
   "metadata": {},
   "source": [
    "# Master Data Statistics \n",
    "\n",
    "This file is used for analyzing data from observations and the pre-baked synthetic data for feeding OLLA."
   ]
  },
  {
   "cell_type": "markdown",
   "id": "outside-reputation",
   "metadata": {},
   "source": [
    "## Radiation Data"
   ]
  },
  {
   "cell_type": "code",
   "execution_count": null,
   "id": "scenic-argentina",
   "metadata": {},
   "outputs": [],
   "source": [
    "import numpy as np \n",
    "import matplotlib.pyplot as plt \n",
    "import xarray as xr \n",
    "import glob \n",
    "import scipy.stats as sts\n",
    "\n",
    "from getStats import getRemoveDefects, getPrecipEventMeansXARRAY_1D, getAutocorrelationTrunc, getDailyMeanMaxArrays, getDailyMeanMaxArrayssyn"
   ]
  },
  {
   "cell_type": "markdown",
   "id": "controlled-lawyer",
   "metadata": {},
   "source": [
    "### Observational Data\n",
    "\n",
    "Compute the mean of each day's radiation and the maximum radiation value for a given day in the observational data"
   ]
  },
  {
   "cell_type": "code",
   "execution_count": null,
   "id": "hollywood-glenn",
   "metadata": {},
   "outputs": [],
   "source": [
    "PATH = \"/data/keeling/a/adammb4/SGP_proj_2021/DATA/\"\n",
    "rad_data_filenames = glob.glob(PATH+\"SGP_Best*\")\n",
    "obs_keyword = \"BestEstimate_down_short_hemisp\"\n",
    "\n",
    "obs_daily_mean_array, obs_daily_max_array = getDailyMeanMaxArrays(rad_data_filenames, obs_keyword) "
   ]
  },
  {
   "cell_type": "markdown",
   "id": "vulnerable-constitutional",
   "metadata": {},
   "source": [
    "Compute the mean of every day's mean, the maximum average daily radiation value, the minimum maximum daily radiation v alue, the standard deviation of the distribution of daily means (obs_avg_std) and the skewness of the distribution of daily mean radiation (obs_avg_skew)"
   ]
  },
  {
   "cell_type": "code",
   "execution_count": null,
   "id": "laden-expense",
   "metadata": {},
   "outputs": [],
   "source": [
    "obs_overall_avg_rad = np.mean(obs_daily_mean_array)\n",
    "obs_peak_daily_rad = np.amax(obs_daily_max_array)\n",
    "obs_min_daily_rad = np.amin(obs_daily_max_array)\n",
    "obs_avg_std = np.std(obs_daily_mean_array)\n",
    "obs_avg_skew = sts.skew(obs_daily_mean_array)\n",
    "#obs_overall_avg_std = np.mean(obs_daily_std_array)\n",
    "#obs_overall_avg_skew = np.mean(obs_daily_skew_array)\n",
    "\n",
    "print(obs_overall_avg_rad, obs_peak_daily_rad, obs_min_daily_rad, obs_avg_std, obs_avg_skew, np.amax(obs_daily_mean_array))"
   ]
  },
  {
   "cell_type": "markdown",
   "id": "disturbed-discretion",
   "metadata": {},
   "source": [
    "### Synthetic Data\n",
    "\n",
    "Same as above for synthetic data."
   ]
  },
  {
   "cell_type": "code",
   "execution_count": null,
   "id": "further-consent",
   "metadata": {},
   "outputs": [],
   "source": [
    "synth_filenames = glob.glob(PATH+\"SGP_synth*\")\n",
    "syn_keyword = \"F_solar\"\n",
    "\n",
    "syn_daily_mean_array, syn_daily_max_array = getDailyMeanMaxArrayssyn(synth_filenames, syn_keyword)"
   ]
  },
  {
   "cell_type": "code",
   "execution_count": null,
   "id": "endangered-crown",
   "metadata": {},
   "outputs": [],
   "source": [
    "ds = xr.open_dataset"
   ]
  },
  {
   "cell_type": "code",
   "execution_count": null,
   "id": "breeding-candidate",
   "metadata": {},
   "outputs": [],
   "source": [
    "syn_overall_avg_rad = np.mean(syn_daily_mean_array)\n",
    "syn_peak_daily_rad = np.amax(syn_daily_max_array)\n",
    "syn_min_daily_rad = np.amin(syn_daily_max_array)\n",
    "syn_avg_std = np.std(syn_daily_mean_array)\n",
    "syn_avg_skew = sts.skew(syn_daily_mean_array)\n",
    "#syn_overall_avg_std = np.mean(syn_daily_std_array)\n",
    "#syn_overall_avg_skew = np.mean(syn_daily_skew_array)\n",
    "\n",
    "print(syn_overall_avg_rad, syn_peak_daily_rad, syn_min_daily_rad, syn_avg_std, syn_avg_skew)"
   ]
  },
  {
   "cell_type": "markdown",
   "id": "cardiovascular-romance",
   "metadata": {},
   "source": [
    "Plot the distrbution of daily radition means and maxima."
   ]
  },
  {
   "cell_type": "code",
   "execution_count": null,
   "id": "precious-architect",
   "metadata": {},
   "outputs": [],
   "source": [
    "fig, ax = plt.subplots(2,2, figsize=(20,10))\n",
    "\n",
    "ax[0,0].hist(obs_daily_mean_array,20)\n",
    "ax[0,0].set_xlabel(\"Daily Mean\")\n",
    "ax[0,0].set_ylabel(\"Frequency\")\n",
    "ax[0,0].set_xlim((0,650))\n",
    "\n",
    "ax[0,1].hist(obs_daily_max_array)\n",
    "ax[0,1].set_xlabel(\"Daily Maximum\")\n",
    "ax[0,1].set_ylabel(\"Frequency\")\n",
    "\n",
    "\n",
    "ax[1,0].hist(syn_daily_mean_array, color='red')\n",
    "ax[1,0].set_xlabel(\"Daily Mean\")\n",
    "ax[1,0].set_ylabel(\"Frequency\")\n",
    "ax[1,0].set_xlim((0,650))\n",
    "\n",
    "ax[1,1].hist(syn_daily_max_array, color='red')\n",
    "ax[1,1].set_xlabel(\"Daily Maximum\")\n",
    "ax[1,1].set_ylabel(\"Frequency\")"
   ]
  },
  {
   "cell_type": "markdown",
   "id": "sublime-blade",
   "metadata": {},
   "source": [
    "Compute the autocorrelation of the distribution of daily means."
   ]
  },
  {
   "cell_type": "code",
   "execution_count": null,
   "id": "synthetic-being",
   "metadata": {},
   "outputs": [],
   "source": [
    "obs_auto = getAutocorrelationTrunc(np.std(obs_daily_mean_array)**(-1) * (obs_daily_mean_array - np.mean(obs_daily_mean_array)) )\n",
    "syn_auto = getAutocorrelationTrunc(np.std(syn_daily_mean_array)**(-1) * (syn_daily_mean_array - np.mean(syn_daily_mean_array)) )\n",
    "\n",
    "#obs_auto = np.correlate(obs_daily_mean_array,obs_daily_mean_array,mode='full') # t \\in (-infty, infty)\n",
    "#syn_auto = np.correlate(syn_daily_mean_array,syn_daily_mean_array,mode='full') # t \\in (-infty, infty)\n",
    "\n",
    "avg_obs_auto = np.mean(obs_auto)\n",
    "avg_syn_auto = np.mean(syn_auto)\n",
    "\n",
    "print(avg_obs_auto, avg_syn_auto)\n",
    "\n",
    "fig, ax = plt.subplots(1, figsize=(15,7.5))\n",
    "\n",
    "ax.plot(obs_auto * (len(obs_daily_mean_array))**(-1), color='blue', label=\"observation\")\n",
    "ax.plot(syn_auto * (len(syn_daily_mean_array))**(-1), color='red', label=\"synthetic\")\n",
    "ax.legend()\n",
    "ax.set_xlim((0,5))\n",
    "ax.set_ylim((-0.25,1))"
   ]
  },
  {
   "cell_type": "markdown",
   "id": "personalized-intention",
   "metadata": {},
   "source": [
    "## Precip Data"
   ]
  },
  {
   "cell_type": "code",
   "execution_count": null,
   "id": "graphic-estate",
   "metadata": {},
   "outputs": [],
   "source": [
    "PATH = \"/data/keeling/a/adammb4/SGP_proj_2021/DATA/\"\n",
    "obs_precip_filenames = glob.glob(PATH+\"SGP_precip*\")\n",
    "syn_precip_filenames = glob.glob(PATH+\"SGP_synth*\")\n",
    "\n",
    "obs_mean_event_array = getPrecipEventMeansXARRAY_1D(obs_precip_filenames, 0, \"precip\")\n",
    "syn_mean_event_array = getPrecipEventMeansXARRAY_1D(syn_precip_filenames, 0, \"precip_syn\")"
   ]
  },
  {
   "cell_type": "markdown",
   "id": "prime-calibration",
   "metadata": {},
   "source": [
    "Plot the distribution of the daily precipitation event amounts."
   ]
  },
  {
   "cell_type": "code",
   "execution_count": null,
   "id": "independent-assistant",
   "metadata": {},
   "outputs": [],
   "source": [
    "fig, ax = plt.subplots(1,2)\n",
    "\n",
    "ax[0].hist(obs_mean_event_array)\n",
    "ax[1].hist(syn_mean_event_array)"
   ]
  },
  {
   "cell_type": "markdown",
   "id": "treated-reception",
   "metadata": {},
   "source": [
    "# Average Diurnal Cycle\n",
    "\n",
    "## Radiation"
   ]
  },
  {
   "cell_type": "code",
   "execution_count": null,
   "id": "french-collectible",
   "metadata": {},
   "outputs": [],
   "source": [
    "PATH = \"/data/keeling/a/adammb4/SGP_proj_2021/DATA/\"\n",
    "rad_data_filenames = glob.glob(PATH+\"SGP_Best*\")\n",
    "syn_data_filenames = glob.glob(PATH+\"SGP_sy*\")\n",
    "obs_keyword = \"BestEstimate_down_short_hemisp\"\n",
    "syn_keyword = \"F_solar\""
   ]
  },
  {
   "cell_type": "markdown",
   "id": "rising-cassette",
   "metadata": {},
   "source": [
    "### Observational Data"
   ]
  },
  {
   "cell_type": "code",
   "execution_count": null,
   "id": "athletic-hindu",
   "metadata": {},
   "outputs": [],
   "source": [
    "N_files = len(rad_data_filenames)\n",
    "\n",
    "clean_rad_data = np.zeros((5,92*24*60))\n",
    "\n",
    "# clean observational data\n",
    "\n",
    "for i in range(0, N_files):\n",
    "    tmp_ds = xr.open_dataset(rad_data_filenames[i])\n",
    "    clean_rad_data[i] = getRemoveDefects(tmp_ds[obs_keyword].values, obs_keyword)"
   ]
  },
  {
   "cell_type": "code",
   "execution_count": null,
   "id": "universal-pocket",
   "metadata": {},
   "outputs": [],
   "source": [
    "# take the mean of each minute's value over 5 years\n",
    "clean_avg_summer_cycle = np.mean(clean_rad_data, axis=0)\n",
    "\n",
    "# split into daily diurnal cycle\n",
    "clean_avg_summer_cycle_split = np.split(clean_avg_summer_cycle, 92)"
   ]
  },
  {
   "cell_type": "code",
   "execution_count": null,
   "id": "drawn-investing",
   "metadata": {},
   "outputs": [],
   "source": [
    "# mean over daily minute by minute\n",
    "clean_avg_daily_cycle = np.mean(clean_avg_summer_cycle_split, axis=0)\n",
    "#len(clean_avg_daily_cycle)\n",
    "np.amax(clean_avg_daily_cycle)"
   ]
  },
  {
   "cell_type": "markdown",
   "id": "nervous-portrait",
   "metadata": {},
   "source": [
    "### Synthetic Data"
   ]
  },
  {
   "cell_type": "code",
   "execution_count": null,
   "id": "formed-stake",
   "metadata": {},
   "outputs": [],
   "source": [
    "synds = xr.open_dataset(syn_data_filenames[0])\n",
    "syn_rad = synds[\"F_solar\"].values[:,0]\n",
    "syn_rad_split = np.split(syn_rad, 92)\n",
    "syn_rad_avg_cycle = np.mean(syn_rad_split, axis=0)\n",
    "#syn_rad_avg_cycle"
   ]
  },
  {
   "cell_type": "code",
   "execution_count": null,
   "id": "abroad-shield",
   "metadata": {},
   "outputs": [],
   "source": [
    "fig, ax = plt.subplots(1, figsize=(15,5))\n",
    "\n",
    "ax.plot(clean_avg_daily_cycle, color='k', label='observation')\n",
    "ax.plot(syn_rad_avg_cycle, color='r', label='synthetic')\n",
    "ax.set_xlabel(\"time\")\n",
    "ax.set_ylabel(\"radiation\")\n",
    "ax.legend()"
   ]
  },
  {
   "cell_type": "markdown",
   "id": "advisory-desire",
   "metadata": {},
   "source": [
    "## Precipitation"
   ]
  },
  {
   "cell_type": "markdown",
   "id": "distant-diagnosis",
   "metadata": {},
   "source": [
    "### Observational Data"
   ]
  },
  {
   "cell_type": "code",
   "execution_count": null,
   "id": "posted-craps",
   "metadata": {},
   "outputs": [],
   "source": [
    "PATH = \"/data/keeling/a/adammb4/SGP_proj_2021/DATA/\"\n",
    "obs_precip_filenames = glob.glob(PATH+\"SGP_precip*\")\n",
    "obs_keyword = \"precip\"\n",
    "\n",
    "# one day had less day's worth of data than the other ones so this needed to be done individually.\n",
    "\n",
    "ds0 = xr.open_dataset(obs_precip_filenames[0])\n",
    "precip0 = ds0[\"precip\"].values\n",
    "\n",
    "clean_precip0 = getRemoveDefects(precip0, \"precip\")\n",
    "\n",
    "ds1 = xr.open_dataset(obs_precip_filenames[1])\n",
    "precip1 = ds1[\"precip\"].values\n",
    "\n",
    "clean_precip1 = getRemoveDefects(precip1, \"precip\")\n",
    "\n",
    "ds2 = xr.open_dataset(obs_precip_filenames[2])\n",
    "precip2 = ds2[\"precip\"].values\n",
    "\n",
    "clean_precip2 = getRemoveDefects(precip2, \"precip\")\n",
    "\n",
    "ds3 = xr.open_dataset(obs_precip_filenames[3])\n",
    "precip3 = ds3[\"precip\"].values\n",
    "\n",
    "clean_precip3 = getRemoveDefects(precip3, \"precip\")\n",
    "\n",
    "ds4 = xr.open_dataset(obs_precip_filenames[4])\n",
    "precip4 = ds4[\"precip\"].values\n",
    "\n",
    "clean_precip4 = getRemoveDefects(precip4, \"precip\")"
   ]
  },
  {
   "cell_type": "code",
   "execution_count": null,
   "id": "excited-wonder",
   "metadata": {},
   "outputs": [],
   "source": [
    "# make filler array and append it to precip2 to make all of the arrays above the same size\n",
    "filler = np.full(1440, None)\n",
    "clean_precip2_filled = np.hstack((clean_precip2, filler))\n",
    "#len(filler)\n",
    "#len(clean_precip2_filled)"
   ]
  },
  {
   "cell_type": "markdown",
   "id": "coupled-filter",
   "metadata": {},
   "source": [
    "stack all of the precip arrays to make a matrix "
   ]
  },
  {
   "cell_type": "code",
   "execution_count": null,
   "id": "universal-colon",
   "metadata": {},
   "outputs": [],
   "source": [
    "clean_precip_all = np.vstack((clean_precip0, clean_precip1, clean_precip2_filled, clean_precip3, clean_precip4))"
   ]
  },
  {
   "cell_type": "code",
   "execution_count": null,
   "id": "ancient-newark",
   "metadata": {},
   "outputs": [],
   "source": [
    "# hand calc mean\n",
    "\n",
    "min_mean = np.zeros(92*60*24)\n",
    "\n",
    "for i in range(0, len(clean_precip_all[0])):\n",
    "    \n",
    "    tmp_sum = 0\n",
    "    \n",
    "    if clean_precip_all[2][i] == None:\n",
    "        tmp_sum = clean_precip_all[0][i] + clean_precip_all[1][i] + clean_precip_all[3][i] + clean_precip_all[4][i]\n",
    "        tmp_mean = tmp_sum * (4)**(-1)\n",
    "        min_mean[i] = tmp_mean\n",
    "        \n",
    "    else: \n",
    "        tmp_sum = clean_precip_all[0][i] + clean_precip_all[1][i] + clean_precip_all[3][i] + clean_precip_all[4][i] + clean_precip_all[2][i]\n",
    "        tmp_mean = tmp_sum * (5)**(-1)\n",
    "        min_mean[i] = tmp_mean"
   ]
  },
  {
   "cell_type": "code",
   "execution_count": null,
   "id": "upset-anime",
   "metadata": {},
   "outputs": [],
   "source": [
    "clean_avg_summer_cycle_split_precip = np.split(min_mean, 92) # split into daily cycles\n",
    "avg_daily_cycle_precip = np.mean(clean_avg_summer_cycle_split_precip, axis=0) # take minute mean of precip in a day"
   ]
  },
  {
   "cell_type": "markdown",
   "id": "seasonal-reference",
   "metadata": {},
   "source": [
    "### Synthetic Data"
   ]
  },
  {
   "cell_type": "code",
   "execution_count": null,
   "id": "expensive-joining",
   "metadata": {},
   "outputs": [],
   "source": [
    "synds = xr.open_dataset(syn_data_filenames[0])\n",
    "syn_precip = synds[\"precip_syn\"].values[:,0]\n",
    "syn_precip_split = np.split(syn_precip, 92)\n",
    "syn_precip_avg_cycle = np.mean(syn_precip_split, axis=0)\n",
    "#syn_precip_avg_cycle"
   ]
  },
  {
   "cell_type": "markdown",
   "id": "knowing-albania",
   "metadata": {},
   "source": [
    "Plot results."
   ]
  },
  {
   "cell_type": "code",
   "execution_count": null,
   "id": "dressed-praise",
   "metadata": {},
   "outputs": [],
   "source": [
    "fig, ax = plt.subplots(1, figsize=(15,5))\n",
    "\n",
    "ax.plot(avg_daily_cycle_precip, color='k', label='observation', zorder=4)\n",
    "ax.plot(syn_precip_avg_cycle, color='r', label='synthetic')\n",
    "ax.set_xlabel(\"time\")\n",
    "ax.set_ylabel(\"precip\")\n",
    "ax.legend()"
   ]
  },
  {
   "cell_type": "markdown",
   "id": "processed-protest",
   "metadata": {},
   "source": [
    "## Testing Grounds"
   ]
  },
  {
   "cell_type": "code",
   "execution_count": null,
   "id": "joined-bangkok",
   "metadata": {},
   "outputs": [],
   "source": [
    "synth_filenames = glob.glob(PATH+\"SGP_synth*\")\n",
    "\n",
    "ds = xr.open_dataset(synth_filenames[0])\n",
    "\n",
    "rad = ds[\"F_solar\"].values\n",
    "\n",
    "rad[699][0]"
   ]
  },
  {
   "cell_type": "code",
   "execution_count": null,
   "id": "contemporary-triple",
   "metadata": {},
   "outputs": [],
   "source": [
    "ds = xr.open_dataset(rad_data_filenames[0])\n",
    "rad = ds[\"BestEstimate_down_short_hemisp\"].values\n",
    "\n",
    "rad_clean = getRemoveDefects(rad, \"BestEstimate_down_short_hemisp\")"
   ]
  },
  {
   "cell_type": "code",
   "execution_count": null,
   "id": "intensive-holiday",
   "metadata": {},
   "outputs": [],
   "source": [
    "rad_split = np.split(rad, 92)\n",
    "rad_clean_split = np.split(rad_clean, 92)\n",
    "\n",
    "fig, ax = plt.subplots(1,2, figsize=(20,10))\n",
    "\n",
    "ax[0].plot(rad_split[0])\n",
    "ax[0].set_ylim(-3000, 1400)\n",
    "\n",
    "ax[1].plot(rad_clean_split[0])\n",
    "ax[1].set_ylim(-3000,1400)"
   ]
  }
 ],
 "metadata": {
  "kernelspec": {
   "display_name": "Python 3",
   "language": "python",
   "name": "python3"
  },
  "language_info": {
   "codemirror_mode": {
    "name": "ipython",
    "version": 3
   },
   "file_extension": ".py",
   "mimetype": "text/x-python",
   "name": "python",
   "nbconvert_exporter": "python",
   "pygments_lexer": "ipython3",
   "version": "3.8.5"
  }
 },
 "nbformat": 4,
 "nbformat_minor": 5
}
